{
 "cells": [
  {
   "cell_type": "markdown",
   "metadata": {
    "collapsed": true
   },
   "source": [
    "## r/place Conflict Analysis\n",
    "\n",
    "Looking at a CSV of features to reason about the factors most associated with winning a conflict."
   ]
  },
  {
   "cell_type": "code",
   "execution_count": 1,
   "metadata": {
    "collapsed": true
   },
   "outputs": [],
   "source": [
    "import pandas as pd\n",
    "import numpy as np\n",
    "import matplotlib.pyplot as plt\n",
    "import matplotlib"
   ]
  },
  {
   "cell_type": "code",
   "execution_count": 2,
   "metadata": {
    "collapsed": true
   },
   "outputs": [],
   "source": [
    "import statsmodels.api as sm\n",
    "import statsmodels.formula.api as smf"
   ]
  },
  {
   "cell_type": "code",
   "execution_count": 3,
   "metadata": {},
   "outputs": [
    {
     "data": {
      "text/plain": [
       "196"
      ]
     },
     "execution_count": 3,
     "metadata": {},
     "output_type": "execute_result"
    }
   ],
   "source": [
    "df = pd.read_csv(\"conflicts2.csv\")\n",
    "len(df)"
   ]
  },
  {
   "cell_type": "code",
   "execution_count": 4,
   "metadata": {},
   "outputs": [
    {
     "data": {
      "text/html": [
       "<div>\n",
       "<style scoped>\n",
       "    .dataframe tbody tr th:only-of-type {\n",
       "        vertical-align: middle;\n",
       "    }\n",
       "\n",
       "    .dataframe tbody tr th {\n",
       "        vertical-align: top;\n",
       "    }\n",
       "\n",
       "    .dataframe thead th {\n",
       "        text-align: right;\n",
       "    }\n",
       "</style>\n",
       "<table border=\"1\" class=\"dataframe\">\n",
       "  <thead>\n",
       "    <tr style=\"text-align: right;\">\n",
       "      <th></th>\n",
       "      <th>conflictID</th>\n",
       "      <th>BaseCommunity</th>\n",
       "      <th>AttackCommunity</th>\n",
       "      <th>BaseUsers</th>\n",
       "      <th>AttackUsers</th>\n",
       "      <th>NumberOfBase PP</th>\n",
       "      <th>NumberOfAttack PP</th>\n",
       "      <th>NumberofBaseWithoutUnsure PP</th>\n",
       "      <th>NumberofAttackWithoutUnsure</th>\n",
       "      <th>MeanofBase PP</th>\n",
       "      <th>MeanofAttack PP</th>\n",
       "      <th>STDofBase PP</th>\n",
       "      <th>STDofAttack PP</th>\n",
       "      <th>Type Of Conflict</th>\n",
       "    </tr>\n",
       "  </thead>\n",
       "  <tbody>\n",
       "    <tr>\n",
       "      <th>0</th>\n",
       "      <td>6953</td>\n",
       "      <td>promos\\t2.62\\nshittyfoodporn\\t1.86\\nwallstreet...</td>\n",
       "      <td>Tinder\\t2.78\\nbuildapc\\t2.34\\nStarWars\\t2.24\\n...</td>\n",
       "      <td>494</td>\n",
       "      <td>486</td>\n",
       "      <td>2071</td>\n",
       "      <td>2079</td>\n",
       "      <td>1524</td>\n",
       "      <td>1524</td>\n",
       "      <td>3.066398</td>\n",
       "      <td>3.129363</td>\n",
       "      <td>3.005297</td>\n",
       "      <td>2.762632</td>\n",
       "      <td>many-many</td>\n",
       "    </tr>\n",
       "    <tr>\n",
       "      <th>1</th>\n",
       "      <td>21519</td>\n",
       "      <td>Argaming\\t27.77\\nargentina\\t7.97\\nMercadoreddi...</td>\n",
       "      <td>The_Donald\\t3.16\\nnfl\\t3.04\\nbuildapc\\t2.78\\np...</td>\n",
       "      <td>1154</td>\n",
       "      <td>445</td>\n",
       "      <td>3161</td>\n",
       "      <td>992</td>\n",
       "      <td>3087</td>\n",
       "      <td>822</td>\n",
       "      <td>2.672727</td>\n",
       "      <td>1.847191</td>\n",
       "      <td>3.221719</td>\n",
       "      <td>1.936990</td>\n",
       "      <td>one-many</td>\n",
       "    </tr>\n",
       "    <tr>\n",
       "      <th>2</th>\n",
       "      <td>4546</td>\n",
       "      <td>Steam\\t6.04\\npcmasterrace\\t4.68\\npcgaming\\t3.1...</td>\n",
       "      <td>xboxone\\t2.52\\nWTF\\t2.23\\nnews\\t1.99\\nGames\\t1...</td>\n",
       "      <td>240</td>\n",
       "      <td>68</td>\n",
       "      <td>377</td>\n",
       "      <td>130</td>\n",
       "      <td>363</td>\n",
       "      <td>114</td>\n",
       "      <td>1.512500</td>\n",
       "      <td>1.676471</td>\n",
       "      <td>1.102955</td>\n",
       "      <td>1.333297</td>\n",
       "      <td>many-many</td>\n",
       "    </tr>\n",
       "    <tr>\n",
       "      <th>3</th>\n",
       "      <td>3251</td>\n",
       "      <td>youtube\\t4.65\\nRainmeter\\t3.31\\nTheSilphRoad\\t...</td>\n",
       "      <td>BikiniBottomTwitter\\t5.46\\ngatekeeping\\t3.28\\n...</td>\n",
       "      <td>2534</td>\n",
       "      <td>1689</td>\n",
       "      <td>7266</td>\n",
       "      <td>5189</td>\n",
       "      <td>5851</td>\n",
       "      <td>3307</td>\n",
       "      <td>2.297212</td>\n",
       "      <td>1.938453</td>\n",
       "      <td>2.647161</td>\n",
       "      <td>2.130631</td>\n",
       "      <td>many-one</td>\n",
       "    </tr>\n",
       "    <tr>\n",
       "      <th>4</th>\n",
       "      <td>2734</td>\n",
       "      <td>Undertale\\t2.74\\nplace\\t1.41\\nfunny\\t1.16\\nAsk...</td>\n",
       "      <td>mildlyinteresting\\t2.05\\nShowerthoughts\\t1.62\\...</td>\n",
       "      <td>117</td>\n",
       "      <td>95</td>\n",
       "      <td>205</td>\n",
       "      <td>146</td>\n",
       "      <td>194</td>\n",
       "      <td>133</td>\n",
       "      <td>1.658120</td>\n",
       "      <td>1.400000</td>\n",
       "      <td>1.612782</td>\n",
       "      <td>1.226033</td>\n",
       "      <td>one-many</td>\n",
       "    </tr>\n",
       "  </tbody>\n",
       "</table>\n",
       "</div>"
      ],
      "text/plain": [
       "   conflictID                                      BaseCommunity  \\\n",
       "0        6953  promos\\t2.62\\nshittyfoodporn\\t1.86\\nwallstreet...   \n",
       "1       21519  Argaming\\t27.77\\nargentina\\t7.97\\nMercadoreddi...   \n",
       "2        4546  Steam\\t6.04\\npcmasterrace\\t4.68\\npcgaming\\t3.1...   \n",
       "3        3251  youtube\\t4.65\\nRainmeter\\t3.31\\nTheSilphRoad\\t...   \n",
       "4        2734  Undertale\\t2.74\\nplace\\t1.41\\nfunny\\t1.16\\nAsk...   \n",
       "\n",
       "                                     AttackCommunity  BaseUsers  AttackUsers  \\\n",
       "0  Tinder\\t2.78\\nbuildapc\\t2.34\\nStarWars\\t2.24\\n...        494          486   \n",
       "1  The_Donald\\t3.16\\nnfl\\t3.04\\nbuildapc\\t2.78\\np...       1154          445   \n",
       "2  xboxone\\t2.52\\nWTF\\t2.23\\nnews\\t1.99\\nGames\\t1...        240           68   \n",
       "3  BikiniBottomTwitter\\t5.46\\ngatekeeping\\t3.28\\n...       2534         1689   \n",
       "4  mildlyinteresting\\t2.05\\nShowerthoughts\\t1.62\\...        117           95   \n",
       "\n",
       "   NumberOfBase PP  NumberOfAttack PP  NumberofBaseWithoutUnsure PP  \\\n",
       "0             2071               2079                          1524   \n",
       "1             3161                992                          3087   \n",
       "2              377                130                           363   \n",
       "3             7266               5189                          5851   \n",
       "4              205                146                           194   \n",
       "\n",
       "   NumberofAttackWithoutUnsure  MeanofBase PP  MeanofAttack PP  STDofBase PP  \\\n",
       "0                         1524       3.066398         3.129363      3.005297   \n",
       "1                          822       2.672727         1.847191      3.221719   \n",
       "2                          114       1.512500         1.676471      1.102955   \n",
       "3                         3307       2.297212         1.938453      2.647161   \n",
       "4                          133       1.658120         1.400000      1.612782   \n",
       "\n",
       "   STDofAttack PP Type Of Conflict  \n",
       "0        2.762632       many-many   \n",
       "1        1.936990        one-many   \n",
       "2        1.333297       many-many   \n",
       "3        2.130631        many-one   \n",
       "4        1.226033        one-many   "
      ]
     },
     "execution_count": 4,
     "metadata": {},
     "output_type": "execute_result"
    }
   ],
   "source": [
    "df.head()"
   ]
  },
  {
   "cell_type": "markdown",
   "metadata": {},
   "source": [
    "### Visualization"
   ]
  },
  {
   "cell_type": "code",
   "execution_count": 15,
   "metadata": {},
   "outputs": [
    {
     "data": {
      "image/png": "[encoded data removed]",
      "text/plain": [
       "<matplotlib.figure.Figure at 0x7efd1debdf98>"
      ]
     },
     "metadata": {},
     "output_type": "display_data"
    },
    {
     "data": {
      "text/plain": [
       "(735.1989795918367, 825.9227222084298, 423.0)"
      ]
     },
     "execution_count": 15,
     "metadata": {},
     "output_type": "execute_result"
    }
   ],
   "source": [
    "fig, ax = plt.subplots(1, figsize=(1,0.4), squeeze=True)\n",
    "\n",
    "plt.hist(df.BaseUsers, log=False, bins=26, align='left', color='black')\n",
    "\n",
    "ax.set_xticks([])\n",
    "ax.set_yticks([])\n",
    "plt.axis('off')\n",
    "\n",
    "plt.tight_layout(pad=0)\n",
    "plt.subplots_adjust(top = 0.4, bottom = 0, right = 1, left = 0, \n",
    "            hspace = 0, wspace = 0)\n",
    "\n",
    "plt.margins(0,0)\n",
    "plt.gca().xaxis.set_major_locator(plt.NullLocator())\n",
    "plt.gca().yaxis.set_major_locator(plt.NullLocator())\n",
    "\n",
    "bbox = matplotlib.transforms.Bbox.from_bounds(0,0,1,0.2)\n",
    "image_filename = \"baseusers_hist.pdf\"\n",
    "plt.savefig(image_filename, format='pdf', dpi=200, pad_inches=0, bbox_inches=bbox) #, transparent=True)\n",
    "plt.show()\n",
    "np.mean(df.BaseUsers), np.std(df.BaseUsers), np.median(df.BaseUsers)"
   ]
  },
  {
   "cell_type": "code",
   "execution_count": 16,
   "metadata": {},
   "outputs": [
    {
     "data": {
      "image/png": "[encoded data removed]",
      "text/plain": [
       "<matplotlib.figure.Figure at 0x7efd1debd358>"
      ]
     },
     "metadata": {},
     "output_type": "display_data"
    },
    {
     "data": {
      "text/plain": [
       "(410.1887755102041, 593.5048441909234, 199.5)"
      ]
     },
     "execution_count": 16,
     "metadata": {},
     "output_type": "execute_result"
    }
   ],
   "source": [
    "x = df.AttackUsers\n",
    "fig, ax = plt.subplots(1, figsize=(1,0.4), squeeze=True)\n",
    "\n",
    "plt.hist(x, log=False, bins=26, align='left', color='black')\n",
    "\n",
    "ax.set_xticks([])\n",
    "ax.set_yticks([])\n",
    "plt.axis('off')\n",
    "\n",
    "plt.tight_layout(pad=0)\n",
    "plt.subplots_adjust(top = 0.4, bottom = 0, right = 1, left = 0, \n",
    "            hspace = 0, wspace = 0)\n",
    "\n",
    "plt.margins(0,0)\n",
    "plt.gca().xaxis.set_major_locator(plt.NullLocator())\n",
    "plt.gca().yaxis.set_major_locator(plt.NullLocator())\n",
    "\n",
    "bbox = matplotlib.transforms.Bbox.from_bounds(0,0,1,0.2)\n",
    "image_filename = \"attackusers_hist.pdf\"\n",
    "plt.savefig(image_filename, format='pdf', dpi=200, pad_inches=0, bbox_inches=bbox) #, transparent=True)\n",
    "plt.show()\n",
    "np.mean(x), np.std(x), np.median(x)"
   ]
  },
  {
   "cell_type": "code",
   "execution_count": 17,
   "metadata": {},
   "outputs": [
    {
     "data": {
      "image/png": "[encoded data removed]",
      "text/plain": [
       "<matplotlib.figure.Figure at 0x7efd1ba5c630>"
      ]
     },
     "metadata": {},
     "output_type": "display_data"
    },
    {
     "data": {
      "text/plain": [
       "(1950.3469387755101, 2690.762395193711, 911.0)"
      ]
     },
     "execution_count": 17,
     "metadata": {},
     "output_type": "execute_result"
    }
   ],
   "source": [
    "x = df['NumberOfBase PP']\n",
    "fig, ax = plt.subplots(1, figsize=(1,0.4), squeeze=True)\n",
    "\n",
    "plt.hist(x, log=False, bins=26, align='left', color='black')\n",
    "\n",
    "ax.set_xticks([])\n",
    "ax.set_yticks([])\n",
    "plt.axis('off')\n",
    "\n",
    "plt.tight_layout(pad=0)\n",
    "plt.subplots_adjust(top = 0.4, bottom = 0, right = 1, left = 0, \n",
    "            hspace = 0, wspace = 0)\n",
    "\n",
    "plt.margins(0,0)\n",
    "plt.gca().xaxis.set_major_locator(plt.NullLocator())\n",
    "plt.gca().yaxis.set_major_locator(plt.NullLocator())\n",
    "\n",
    "bbox = matplotlib.transforms.Bbox.from_bounds(0,0,1,0.2)\n",
    "image_filename = \"basepp_hist.pdf\"\n",
    "plt.savefig(image_filename, format='pdf', dpi=200, pad_inches=0, bbox_inches=bbox) #, transparent=True)\n",
    "plt.show()\n",
    "np.mean(x), np.std(x), np.median(x)"
   ]
  },
  {
   "cell_type": "code",
   "execution_count": 18,
   "metadata": {},
   "outputs": [
    {
     "data": {
      "image/png": "[encoded data removed]",
      "text/plain": [
       "<matplotlib.figure.Figure at 0x7efd1b9ca2b0>"
      ]
     },
     "metadata": {},
     "output_type": "display_data"
    },
    {
     "data": {
      "text/plain": [
       "(1020.734693877551, 1690.20659618164, 436.5)"
      ]
     },
     "execution_count": 18,
     "metadata": {},
     "output_type": "execute_result"
    }
   ],
   "source": [
    "x = df['NumberOfAttack PP']\n",
    "fig, ax = plt.subplots(1, figsize=(1,0.4), squeeze=True)\n",
    "\n",
    "plt.hist(x, log=False, bins=26, align='left', color='black')\n",
    "\n",
    "ax.set_xticks([])\n",
    "ax.set_yticks([])\n",
    "plt.axis('off')\n",
    "\n",
    "plt.tight_layout(pad=0)\n",
    "plt.subplots_adjust(top = 0.4, bottom = 0, right = 1, left = 0, \n",
    "            hspace = 0, wspace = 0)\n",
    "\n",
    "plt.margins(0,0)\n",
    "plt.gca().xaxis.set_major_locator(plt.NullLocator())\n",
    "plt.gca().yaxis.set_major_locator(plt.NullLocator())\n",
    "\n",
    "bbox = matplotlib.transforms.Bbox.from_bounds(0,0,1,0.2)\n",
    "image_filename = \"attackpp_hist.pdf\"\n",
    "plt.savefig(image_filename, format='pdf', dpi=200, pad_inches=0, bbox_inches=bbox) #, transparent=True)\n",
    "plt.show()\n",
    "np.mean(x), np.std(x), np.median(x)"
   ]
  },
  {
   "cell_type": "markdown",
   "metadata": {},
   "source": [
    "#### Produce conflict length figures"
   ]
  },
  {
   "cell_type": "code",
   "execution_count": 19,
   "metadata": {},
   "outputs": [
    {
     "data": {
      "text/plain": [
       "196"
      ]
     },
     "execution_count": 19,
     "metadata": {},
     "output_type": "execute_result"
    }
   ],
   "source": [
    "length_df = pd.read_csv(\"conflictLen.csv\")\n",
    "len(length_df)"
   ]
  },
  {
   "cell_type": "code",
   "execution_count": 20,
   "metadata": {
    "collapsed": true
   },
   "outputs": [],
   "source": [
    "# no actual need to merge unless we want to compare conflict length to some other feature of the conflicts\n",
    "#length_df.merge(df[['conflictID']], how='left')"
   ]
  },
  {
   "cell_type": "code",
   "execution_count": 21,
   "metadata": {},
   "outputs": [
    {
     "data": {
      "image/png": "[encoded data removed]",
      "text/plain": [
       "<matplotlib.figure.Figure at 0x7efd1e362dd8>"
      ]
     },
     "metadata": {},
     "output_type": "display_data"
    },
    {
     "data": {
      "text/plain": [
       "(5.759013605442174, 3.4377107590449545, 4.591666666666667)"
      ]
     },
     "execution_count": 21,
     "metadata": {},
     "output_type": "execute_result"
    }
   ],
   "source": [
    "x = length_df['length'] / 60\n",
    "fig, ax = plt.subplots(1, figsize=(1,0.4), squeeze=True)\n",
    "\n",
    "plt.hist(x, log=False, bins=26, align='left', color='black')\n",
    "\n",
    "ax.set_xticks([])\n",
    "ax.set_yticks([])\n",
    "plt.axis('off')\n",
    "\n",
    "plt.tight_layout(pad=0)\n",
    "plt.subplots_adjust(top = 0.4, bottom = 0, right = 1, left = 0, \n",
    "            hspace = 0, wspace = 0)\n",
    "\n",
    "plt.margins(0,0)\n",
    "plt.gca().xaxis.set_major_locator(plt.NullLocator())\n",
    "plt.gca().yaxis.set_major_locator(plt.NullLocator())\n",
    "\n",
    "bbox = matplotlib.transforms.Bbox.from_bounds(0,0,1,0.2)\n",
    "image_filename = \"length_hist.pdf\"\n",
    "plt.savefig(image_filename, format='pdf', dpi=200, pad_inches=0, bbox_inches=bbox) #, transparent=True)\n",
    "plt.show()\n",
    "np.mean(x), np.std(x), np.median(x)"
   ]
  },
  {
   "cell_type": "markdown",
   "metadata": {},
   "source": [
    "### Analysis"
   ]
  },
  {
   "cell_type": "code",
   "execution_count": 7,
   "metadata": {
    "collapsed": true
   },
   "outputs": [],
   "source": [
    "# this shuffles the data-order\n",
    "df = df.sample(frac=1)"
   ]
  },
  {
   "cell_type": "code",
   "execution_count": 8,
   "metadata": {
    "scrolled": false
   },
   "outputs": [
    {
     "data": {
      "text/html": [
       "<div>\n",
       "<style scoped>\n",
       "    .dataframe tbody tr th:only-of-type {\n",
       "        vertical-align: middle;\n",
       "    }\n",
       "\n",
       "    .dataframe tbody tr th {\n",
       "        vertical-align: top;\n",
       "    }\n",
       "\n",
       "    .dataframe thead th {\n",
       "        text-align: right;\n",
       "    }\n",
       "</style>\n",
       "<table border=\"1\" class=\"dataframe\">\n",
       "  <thead>\n",
       "    <tr style=\"text-align: right;\">\n",
       "      <th></th>\n",
       "      <th>conflictID</th>\n",
       "      <th>BaseCommunity</th>\n",
       "      <th>AttackCommunity</th>\n",
       "      <th>BaseUsers</th>\n",
       "      <th>AttackUsers</th>\n",
       "      <th>NumberOfBase PP</th>\n",
       "      <th>NumberOfAttack PP</th>\n",
       "      <th>NumberofBaseWithoutUnsure PP</th>\n",
       "      <th>NumberofAttackWithoutUnsure</th>\n",
       "      <th>MeanofBase PP</th>\n",
       "      <th>MeanofAttack PP</th>\n",
       "      <th>STDofBase PP</th>\n",
       "      <th>STDofAttack PP</th>\n",
       "      <th>Type Of Conflict</th>\n",
       "    </tr>\n",
       "  </thead>\n",
       "  <tbody>\n",
       "    <tr>\n",
       "      <th>115</th>\n",
       "      <td>9301</td>\n",
       "      <td>gameofthrones\\t2.55\\npussypassdenied\\t2.47\\nPr...</td>\n",
       "      <td>Idubbbz\\t3.74\\nJonTron\\t3.54\\noldpeoplefaceboo...</td>\n",
       "      <td>1166</td>\n",
       "      <td>1143</td>\n",
       "      <td>2886</td>\n",
       "      <td>2423</td>\n",
       "      <td>2567</td>\n",
       "      <td>1933</td>\n",
       "      <td>2.197774</td>\n",
       "      <td>1.686736</td>\n",
       "      <td>2.936152</td>\n",
       "      <td>2.160356</td>\n",
       "      <td>many-many</td>\n",
       "    </tr>\n",
       "    <tr>\n",
       "      <th>168</th>\n",
       "      <td>18595</td>\n",
       "      <td>transgender\\t60.59\\ntranspassing\\t58.09\\nasktr...</td>\n",
       "      <td>dbz\\t6.96\\nBattlefield\\t4.84\\nguns\\t3.51\\nThe_...</td>\n",
       "      <td>2225</td>\n",
       "      <td>1879</td>\n",
       "      <td>9578</td>\n",
       "      <td>5444</td>\n",
       "      <td>9116</td>\n",
       "      <td>4996</td>\n",
       "      <td>4.089726</td>\n",
       "      <td>2.657447</td>\n",
       "      <td>5.357144</td>\n",
       "      <td>3.456523</td>\n",
       "      <td>many-one</td>\n",
       "    </tr>\n",
       "    <tr>\n",
       "      <th>44</th>\n",
       "      <td>9127</td>\n",
       "      <td>AnnArbor\\t10.24\\nuofm\\t9.92\\nSuomi\\t6.7\\nGoogl...</td>\n",
       "      <td>msu\\t6.62\\nOhioStateFootball\\t5.62\\nclevelandc...</td>\n",
       "      <td>2446</td>\n",
       "      <td>1878</td>\n",
       "      <td>15119</td>\n",
       "      <td>7947</td>\n",
       "      <td>13849</td>\n",
       "      <td>5978</td>\n",
       "      <td>5.636549</td>\n",
       "      <td>3.166314</td>\n",
       "      <td>9.017878</td>\n",
       "      <td>4.445871</td>\n",
       "      <td>many-many</td>\n",
       "    </tr>\n",
       "    <tr>\n",
       "      <th>32</th>\n",
       "      <td>15093</td>\n",
       "      <td>GlobalOffensive\\t6.8\\ninterestingasfuck\\t2.56\\...</td>\n",
       "      <td>dankmemes\\t2.92\\nnfl\\t2.76\\nMemeEconomy\\t1.72\\...</td>\n",
       "      <td>616</td>\n",
       "      <td>152</td>\n",
       "      <td>1032</td>\n",
       "      <td>305</td>\n",
       "      <td>971</td>\n",
       "      <td>236</td>\n",
       "      <td>1.576299</td>\n",
       "      <td>1.552632</td>\n",
       "      <td>1.467402</td>\n",
       "      <td>1.207376</td>\n",
       "      <td>one-many</td>\n",
       "    </tr>\n",
       "    <tr>\n",
       "      <th>100</th>\n",
       "      <td>18567</td>\n",
       "      <td>runescape\\t4.47\\n2007scape\\t3.53\\nleagueoflege...</td>\n",
       "      <td>PurplePixels\\t4.93\\nAdviceAnimals\\t2.63\\nWTF\\t...</td>\n",
       "      <td>291</td>\n",
       "      <td>220</td>\n",
       "      <td>624</td>\n",
       "      <td>507</td>\n",
       "      <td>522</td>\n",
       "      <td>398</td>\n",
       "      <td>1.793814</td>\n",
       "      <td>1.800905</td>\n",
       "      <td>1.554982</td>\n",
       "      <td>1.796477</td>\n",
       "      <td>many-one</td>\n",
       "    </tr>\n",
       "  </tbody>\n",
       "</table>\n",
       "</div>"
      ],
      "text/plain": [
       "     conflictID                                      BaseCommunity  \\\n",
       "115        9301  gameofthrones\\t2.55\\npussypassdenied\\t2.47\\nPr...   \n",
       "168       18595  transgender\\t60.59\\ntranspassing\\t58.09\\nasktr...   \n",
       "44         9127  AnnArbor\\t10.24\\nuofm\\t9.92\\nSuomi\\t6.7\\nGoogl...   \n",
       "32        15093  GlobalOffensive\\t6.8\\ninterestingasfuck\\t2.56\\...   \n",
       "100       18567  runescape\\t4.47\\n2007scape\\t3.53\\nleagueoflege...   \n",
       "\n",
       "                                       AttackCommunity  BaseUsers  \\\n",
       "115  Idubbbz\\t3.74\\nJonTron\\t3.54\\noldpeoplefaceboo...       1166   \n",
       "168  dbz\\t6.96\\nBattlefield\\t4.84\\nguns\\t3.51\\nThe_...       2225   \n",
       "44   msu\\t6.62\\nOhioStateFootball\\t5.62\\nclevelandc...       2446   \n",
       "32   dankmemes\\t2.92\\nnfl\\t2.76\\nMemeEconomy\\t1.72\\...        616   \n",
       "100  PurplePixels\\t4.93\\nAdviceAnimals\\t2.63\\nWTF\\t...        291   \n",
       "\n",
       "     AttackUsers  NumberOfBase PP  NumberOfAttack PP  \\\n",
       "115         1143             2886               2423   \n",
       "168         1879             9578               5444   \n",
       "44          1878            15119               7947   \n",
       "32           152             1032                305   \n",
       "100          220              624                507   \n",
       "\n",
       "     NumberofBaseWithoutUnsure PP  NumberofAttackWithoutUnsure  MeanofBase PP  \\\n",
       "115                          2567                         1933       2.197774   \n",
       "168                          9116                         4996       4.089726   \n",
       "44                          13849                         5978       5.636549   \n",
       "32                            971                          236       1.576299   \n",
       "100                           522                          398       1.793814   \n",
       "\n",
       "     MeanofAttack PP  STDofBase PP  STDofAttack PP Type Of Conflict  \n",
       "115         1.686736      2.936152        2.160356       many-many   \n",
       "168         2.657447      5.357144        3.456523        many-one   \n",
       "44          3.166314      9.017878        4.445871       many-many   \n",
       "32          1.552632      1.467402        1.207376        one-many   \n",
       "100         1.800905      1.554982        1.796477        many-one   "
      ]
     },
     "execution_count": 8,
     "metadata": {},
     "output_type": "execute_result"
    }
   ],
   "source": [
    "df.head()"
   ]
  },
  {
   "cell_type": "code",
   "execution_count": 9,
   "metadata": {},
   "outputs": [
    {
     "data": {
      "text/plain": [
       "Index(['conflictID', 'BaseCommunity', 'AttackCommunity', 'BaseUsers',\n",
       "       'AttackUsers', 'NumberOfBase PP', 'NumberOfAttack PP',\n",
       "       'NumberofBaseWithoutUnsure PP', 'NumberofAttackWithoutUnsure',\n",
       "       'MeanofBase PP', 'MeanofAttack PP', 'STDofBase PP', 'STDofAttack PP',\n",
       "       'Type Of Conflict'],\n",
       "      dtype='object')"
      ]
     },
     "execution_count": 9,
     "metadata": {},
     "output_type": "execute_result"
    }
   ],
   "source": [
    "df.columns"
   ]
  },
  {
   "cell_type": "code",
   "execution_count": 10,
   "metadata": {
    "collapsed": true
   },
   "outputs": [],
   "source": [
    "def print_feature_summary(res):\n",
    "    for feature, coef in zip(res.params.index, res.params):\n",
    "        prob = np.exp(coef)/(1+np.exp(coef))\n",
    "        feature_name = feature\n",
    "        if \"health_condition\" in feature_name:\n",
    "            feature_name = \"health_condition \" + feature_name.split(\"[\")[1][2:-1]\n",
    "        print(f\"{feature_name:<50} {min((np.exp(coef)-1)*100, 999):>8.3f}% increase   {prob*100:>8.2f}%   ({np.exp(coef):.3f})\")"
   ]
  },
  {
   "cell_type": "code",
   "execution_count": 32,
   "metadata": {},
   "outputs": [
    {
     "data": {
      "text/plain": [
       "392"
      ]
     },
     "execution_count": 32,
     "metadata": {},
     "output_type": "execute_result"
    }
   ],
   "source": [
    "l = []\n",
    "for i, row in df.iterrows():\n",
    "    d1 = {\n",
    "        'is_winner': 1,\n",
    "        'user_count': row['BaseUsers'],\n",
    "        'placement_count': row['NumberOfBase PP'],\n",
    "        'mean_placements': row['MeanofBase PP'],\n",
    "        'std_placements': row['STDofBase PP'],\n",
    "        'conflict_type': row['Type Of Conflict']\n",
    "    }\n",
    "    d2 = {\n",
    "        'is_winner': 0,\n",
    "        'user_count': row['AttackUsers'],\n",
    "        'placement_count': row['NumberOfAttack PP'],\n",
    "        'mean_placements': row['MeanofAttack PP'],\n",
    "        'std_placements': row['STDofAttack PP'],\n",
    "        'conflict_type': row['Type Of Conflict']\n",
    "    }\n",
    "    l.append(d1)\n",
    "    l.append(d2)\n",
    "mdf = pd.DataFrame(l)\n",
    "len(mdf)"
   ]
  },
  {
   "cell_type": "code",
   "execution_count": 34,
   "metadata": {},
   "outputs": [
    {
     "name": "stdout",
     "output_type": "stream",
     "text": [
      "Optimization terminated successfully.\n",
      "         Current function value: 0.550717\n",
      "         Iterations 6\n"
     ]
    },
    {
     "data": {
      "text/html": [
       "<table class=\"simpletable\">\n",
       "<caption>Logit Regression Results</caption>\n",
       "<tr>\n",
       "  <th>Dep. Variable:</th>       <td>is_winner</td>    <th>  No. Observations:  </th>  <td>   392</td>  \n",
       "</tr>\n",
       "<tr>\n",
       "  <th>Model:</th>                 <td>Logit</td>      <th>  Df Residuals:      </th>  <td>   387</td>  \n",
       "</tr>\n",
       "<tr>\n",
       "  <th>Method:</th>                 <td>MLE</td>       <th>  Df Model:          </th>  <td>     4</td>  \n",
       "</tr>\n",
       "<tr>\n",
       "  <th>Date:</th>            <td>Fri, 05 Jun 2020</td> <th>  Pseudo R-squ.:     </th>  <td>0.2055</td>  \n",
       "</tr>\n",
       "<tr>\n",
       "  <th>Time:</th>                <td>16:08:16</td>     <th>  Log-Likelihood:    </th> <td> -215.88</td> \n",
       "</tr>\n",
       "<tr>\n",
       "  <th>converged:</th>             <td>True</td>       <th>  LL-Null:           </th> <td> -271.71</td> \n",
       "</tr>\n",
       "<tr>\n",
       "  <th>Covariance Type:</th>     <td>nonrobust</td>    <th>  LLR p-value:       </th> <td>3.212e-23</td>\n",
       "</tr>\n",
       "</table>\n",
       "<table class=\"simpletable\">\n",
       "<tr>\n",
       "         <td></td>            <th>coef</th>     <th>std err</th>      <th>z</th>      <th>P>|z|</th>  <th>[0.025</th>    <th>0.975]</th>  \n",
       "</tr>\n",
       "<tr>\n",
       "  <th>Intercept</th>       <td>   -5.7407</td> <td>    0.722</td> <td>   -7.955</td> <td> 0.000</td> <td>   -7.155</td> <td>   -4.326</td>\n",
       "</tr>\n",
       "<tr>\n",
       "  <th>user_count</th>      <td>    0.0032</td> <td>    0.001</td> <td>    4.972</td> <td> 0.000</td> <td>    0.002</td> <td>    0.004</td>\n",
       "</tr>\n",
       "<tr>\n",
       "  <th>placement_count</th> <td>   -0.0007</td> <td>    0.000</td> <td>   -3.396</td> <td> 0.001</td> <td>   -0.001</td> <td>   -0.000</td>\n",
       "</tr>\n",
       "<tr>\n",
       "  <th>mean_placements</th> <td>    4.6679</td> <td>    0.658</td> <td>    7.097</td> <td> 0.000</td> <td>    3.379</td> <td>    5.957</td>\n",
       "</tr>\n",
       "<tr>\n",
       "  <th>std_placements</th>  <td>   -2.0694</td> <td>    0.369</td> <td>   -5.613</td> <td> 0.000</td> <td>   -2.792</td> <td>   -1.347</td>\n",
       "</tr>\n",
       "</table>"
      ],
      "text/plain": [
       "<class 'statsmodels.iolib.summary.Summary'>\n",
       "\"\"\"\n",
       "                           Logit Regression Results                           \n",
       "==============================================================================\n",
       "Dep. Variable:              is_winner   No. Observations:                  392\n",
       "Model:                          Logit   Df Residuals:                      387\n",
       "Method:                           MLE   Df Model:                            4\n",
       "Date:                Fri, 05 Jun 2020   Pseudo R-squ.:                  0.2055\n",
       "Time:                        16:08:16   Log-Likelihood:                -215.88\n",
       "converged:                       True   LL-Null:                       -271.71\n",
       "Covariance Type:            nonrobust   LLR p-value:                 3.212e-23\n",
       "===================================================================================\n",
       "                      coef    std err          z      P>|z|      [0.025      0.975]\n",
       "-----------------------------------------------------------------------------------\n",
       "Intercept          -5.7407      0.722     -7.955      0.000      -7.155      -4.326\n",
       "user_count          0.0032      0.001      4.972      0.000       0.002       0.004\n",
       "placement_count    -0.0007      0.000     -3.396      0.001      -0.001      -0.000\n",
       "mean_placements     4.6679      0.658      7.097      0.000       3.379       5.957\n",
       "std_placements     -2.0694      0.369     -5.613      0.000      -2.792      -1.347\n",
       "===================================================================================\n",
       "\"\"\""
      ]
     },
     "execution_count": 34,
     "metadata": {},
     "output_type": "execute_result"
    }
   ],
   "source": [
    "formula = \"\"\"\n",
    "is_winner ~ \n",
    "    user_count\n",
    "    + placement_count\n",
    "    + mean_placements\n",
    "    + std_placements\n",
    "    \n",
    "    + 1\n",
    "\"\"\"\n",
    "# + C(conflict_type, Treatment(reference='many-many'))\n",
    "model = smf.logit(formula=formula, \n",
    "                  data=mdf)\n",
    "res = model.fit(maxiter=100)\n",
    "res.summary()"
   ]
  },
  {
   "cell_type": "code",
   "execution_count": 35,
   "metadata": {},
   "outputs": [
    {
     "name": "stdout",
     "output_type": "stream",
     "text": [
      "Intercept                                           -99.679% increase       0.32%   (0.003)\n",
      "user_count                                            0.320% increase      50.08%   (1.003)\n",
      "placement_count                                      -0.074% increase      49.98%   (0.999)\n",
      "mean_placements                                     999.000% increase      99.07%   (106.476)\n",
      "std_placements                                      -87.374% increase      11.21%   (0.126)\n"
     ]
    }
   ],
   "source": [
    "print_feature_summary(res)"
   ]
  },
  {
   "cell_type": "code",
   "execution_count": 24,
   "metadata": {},
   "outputs": [
    {
     "data": {
      "text/html": [
       "<div>\n",
       "<style scoped>\n",
       "    .dataframe tbody tr th:only-of-type {\n",
       "        vertical-align: middle;\n",
       "    }\n",
       "\n",
       "    .dataframe tbody tr th {\n",
       "        vertical-align: top;\n",
       "    }\n",
       "\n",
       "    .dataframe thead th {\n",
       "        text-align: right;\n",
       "    }\n",
       "</style>\n",
       "<table border=\"1\" class=\"dataframe\">\n",
       "  <thead>\n",
       "    <tr style=\"text-align: right;\">\n",
       "      <th></th>\n",
       "      <th>is_winner</th>\n",
       "      <th>mean_placements</th>\n",
       "      <th>placement_count</th>\n",
       "      <th>std_placements</th>\n",
       "      <th>user_count</th>\n",
       "    </tr>\n",
       "  </thead>\n",
       "  <tbody>\n",
       "    <tr>\n",
       "      <th>count</th>\n",
       "      <td>392.000000</td>\n",
       "      <td>392.000000</td>\n",
       "      <td>392.000000</td>\n",
       "      <td>392.000000</td>\n",
       "      <td>392.000000</td>\n",
       "    </tr>\n",
       "    <tr>\n",
       "      <th>mean</th>\n",
       "      <td>0.500000</td>\n",
       "      <td>2.056527</td>\n",
       "      <td>1485.540816</td>\n",
       "      <td>2.165129</td>\n",
       "      <td>572.693878</td>\n",
       "    </tr>\n",
       "    <tr>\n",
       "      <th>std</th>\n",
       "      <td>0.500639</td>\n",
       "      <td>0.764658</td>\n",
       "      <td>2297.391857</td>\n",
       "      <td>1.306273</td>\n",
       "      <td>738.238699</td>\n",
       "    </tr>\n",
       "    <tr>\n",
       "      <th>min</th>\n",
       "      <td>0.000000</td>\n",
       "      <td>1.025641</td>\n",
       "      <td>57.000000</td>\n",
       "      <td>0.158062</td>\n",
       "      <td>36.000000</td>\n",
       "    </tr>\n",
       "    <tr>\n",
       "      <th>25%</th>\n",
       "      <td>0.000000</td>\n",
       "      <td>1.553449</td>\n",
       "      <td>337.000000</td>\n",
       "      <td>1.262776</td>\n",
       "      <td>163.000000</td>\n",
       "    </tr>\n",
       "    <tr>\n",
       "      <th>50%</th>\n",
       "      <td>0.500000</td>\n",
       "      <td>1.845471</td>\n",
       "      <td>656.500000</td>\n",
       "      <td>1.860729</td>\n",
       "      <td>294.000000</td>\n",
       "    </tr>\n",
       "    <tr>\n",
       "      <th>75%</th>\n",
       "      <td>1.000000</td>\n",
       "      <td>2.361673</td>\n",
       "      <td>1503.750000</td>\n",
       "      <td>2.685138</td>\n",
       "      <td>639.250000</td>\n",
       "    </tr>\n",
       "    <tr>\n",
       "      <th>max</th>\n",
       "      <td>1.000000</td>\n",
       "      <td>6.192214</td>\n",
       "      <td>15778.000000</td>\n",
       "      <td>9.017878</td>\n",
       "      <td>5454.000000</td>\n",
       "    </tr>\n",
       "  </tbody>\n",
       "</table>\n",
       "</div>"
      ],
      "text/plain": [
       "        is_winner  mean_placements  placement_count  std_placements  \\\n",
       "count  392.000000       392.000000       392.000000      392.000000   \n",
       "mean     0.500000         2.056527      1485.540816        2.165129   \n",
       "std      0.500639         0.764658      2297.391857        1.306273   \n",
       "min      0.000000         1.025641        57.000000        0.158062   \n",
       "25%      0.000000         1.553449       337.000000        1.262776   \n",
       "50%      0.500000         1.845471       656.500000        1.860729   \n",
       "75%      1.000000         2.361673      1503.750000        2.685138   \n",
       "max      1.000000         6.192214     15778.000000        9.017878   \n",
       "\n",
       "        user_count  \n",
       "count   392.000000  \n",
       "mean    572.693878  \n",
       "std     738.238699  \n",
       "min      36.000000  \n",
       "25%     163.000000  \n",
       "50%     294.000000  \n",
       "75%     639.250000  \n",
       "max    5454.000000  "
      ]
     },
     "execution_count": 24,
     "metadata": {},
     "output_type": "execute_result"
    }
   ],
   "source": [
    "mdf.describe()"
   ]
  },
  {
   "cell_type": "code",
   "execution_count": 29,
   "metadata": {},
   "outputs": [
    {
     "name": "stdout",
     "output_type": "stream",
     "text": [
      "Optimization terminated successfully.\n",
      "         Current function value: 0.628232\n",
      "         Iterations 6\n"
     ]
    },
    {
     "data": {
      "text/html": [
       "<table class=\"simpletable\">\n",
       "<caption>Logit Regression Results</caption>\n",
       "<tr>\n",
       "  <th>Dep. Variable:</th>       <td>is_winner</td>    <th>  No. Observations:  </th>  <td>   392</td>  \n",
       "</tr>\n",
       "<tr>\n",
       "  <th>Model:</th>                 <td>Logit</td>      <th>  Df Residuals:      </th>  <td>   389</td>  \n",
       "</tr>\n",
       "<tr>\n",
       "  <th>Method:</th>                 <td>MLE</td>       <th>  Df Model:          </th>  <td>     2</td>  \n",
       "</tr>\n",
       "<tr>\n",
       "  <th>Date:</th>            <td>Fri, 05 Jun 2020</td> <th>  Pseudo R-squ.:     </th>  <td>0.09365</td> \n",
       "</tr>\n",
       "<tr>\n",
       "  <th>Time:</th>                <td>16:05:35</td>     <th>  Log-Likelihood:    </th> <td> -246.27</td> \n",
       "</tr>\n",
       "<tr>\n",
       "  <th>converged:</th>             <td>True</td>       <th>  LL-Null:           </th> <td> -271.71</td> \n",
       "</tr>\n",
       "<tr>\n",
       "  <th>Covariance Type:</th>     <td>nonrobust</td>    <th>  LLR p-value:       </th> <td>8.886e-12</td>\n",
       "</tr>\n",
       "</table>\n",
       "<table class=\"simpletable\">\n",
       "<tr>\n",
       "         <td></td>            <th>coef</th>     <th>std err</th>      <th>z</th>      <th>P>|z|</th>  <th>[0.025</th>    <th>0.975]</th>  \n",
       "</tr>\n",
       "<tr>\n",
       "  <th>Intercept</th>       <td>   -2.1057</td> <td>    0.378</td> <td>   -5.572</td> <td> 0.000</td> <td>   -2.846</td> <td>   -1.365</td>\n",
       "</tr>\n",
       "<tr>\n",
       "  <th>user_count</th>      <td>    0.0006</td> <td>    0.000</td> <td>    2.936</td> <td> 0.003</td> <td>    0.000</td> <td>    0.001</td>\n",
       "</tr>\n",
       "<tr>\n",
       "  <th>mean_placements</th> <td>    0.8962</td> <td>    0.186</td> <td>    4.811</td> <td> 0.000</td> <td>    0.531</td> <td>    1.261</td>\n",
       "</tr>\n",
       "</table>"
      ],
      "text/plain": [
       "<class 'statsmodels.iolib.summary.Summary'>\n",
       "\"\"\"\n",
       "                           Logit Regression Results                           \n",
       "==============================================================================\n",
       "Dep. Variable:              is_winner   No. Observations:                  392\n",
       "Model:                          Logit   Df Residuals:                      389\n",
       "Method:                           MLE   Df Model:                            2\n",
       "Date:                Fri, 05 Jun 2020   Pseudo R-squ.:                 0.09365\n",
       "Time:                        16:05:35   Log-Likelihood:                -246.27\n",
       "converged:                       True   LL-Null:                       -271.71\n",
       "Covariance Type:            nonrobust   LLR p-value:                 8.886e-12\n",
       "===================================================================================\n",
       "                      coef    std err          z      P>|z|      [0.025      0.975]\n",
       "-----------------------------------------------------------------------------------\n",
       "Intercept          -2.1057      0.378     -5.572      0.000      -2.846      -1.365\n",
       "user_count          0.0006      0.000      2.936      0.003       0.000       0.001\n",
       "mean_placements     0.8962      0.186      4.811      0.000       0.531       1.261\n",
       "===================================================================================\n",
       "\"\"\""
      ]
     },
     "execution_count": 29,
     "metadata": {},
     "output_type": "execute_result"
    }
   ],
   "source": [
    "formula = \"\"\"\n",
    "is_winner ~ \n",
    "    user_count\n",
    "    + mean_placements\n",
    "    + 1\n",
    "\"\"\"\n",
    "# + num_sites OR is_multisite_author\n",
    "# + health_condition\n",
    "model = smf.logit(formula=formula, \n",
    "                  data=mdf)\n",
    "res = model.fit(maxiter=100)\n",
    "res.summary()"
   ]
  },
  {
   "cell_type": "code",
   "execution_count": 12,
   "metadata": {
    "collapsed": true
   },
   "outputs": [],
   "source": [
    "df['user_count_delta'] = df.BaseUsers - df.AttackUsers\n",
    "df['placement_count_delta'] = df['NumberOfBase PP'] - df['NumberOfAttack PP']\n",
    "df['mean_placements_delta'] = df['MeanofBase PP'] - df['MeanofAttack PP']\n",
    "df['std_placements_delta'] = df['STDofBase PP'] - df['STDofAttack PP']\n",
    "df['placement_wo_unsure_count_delta'] = df['NumberofBaseWithoutUnsure PP'] - df['NumberofAttackWithoutUnsure']"
   ]
  },
  {
   "cell_type": "code",
   "execution_count": 68,
   "metadata": {},
   "outputs": [
    {
     "data": {
      "text/plain": [
       "196"
      ]
     },
     "execution_count": 68,
     "metadata": {},
     "output_type": "execute_result"
    }
   ],
   "source": [
    "l = []\n",
    "count = 0\n",
    "df = df.sample(frac=1)\n",
    "for i, row in df.iterrows():\n",
    "    if True: #count % 2 == 0:\n",
    "        d = {\n",
    "            'is_winner': 1,\n",
    "            'user_count_delta': row['user_count_delta'],\n",
    "            'placement_count_delta': row['placement_count_delta'],\n",
    "            'placement_wo_unsure_count_delta': row['placement_wo_unsure_count_delta'],\n",
    "            'mean_placements_delta': row['mean_placements_delta'],\n",
    "            'std_placements_delta': row['std_placements_delta'],\n",
    "        }\n",
    "    else:\n",
    "        d = {\n",
    "            'is_winner': 0,\n",
    "            'user_count_delta': row['user_count_delta'] * -1,\n",
    "            'placement_count_delta': row['placement_count_delta'] * -1,\n",
    "            'placement_wo_unsure_count_delta': row['placement_wo_unsure_count_delta'] * -1,\n",
    "            'mean_placements_delta': row['mean_placements_delta'] * -1,\n",
    "            'std_placements_delta': row['std_placements_delta'] * -1,\n",
    "        }\n",
    "    l.append(d)\n",
    "    count += 1\n",
    "mdf = pd.DataFrame(l)\n",
    "len(mdf)"
   ]
  },
  {
   "cell_type": "code",
   "execution_count": 69,
   "metadata": {},
   "outputs": [
    {
     "data": {
      "text/html": [
       "<div>\n",
       "<style scoped>\n",
       "    .dataframe tbody tr th:only-of-type {\n",
       "        vertical-align: middle;\n",
       "    }\n",
       "\n",
       "    .dataframe tbody tr th {\n",
       "        vertical-align: top;\n",
       "    }\n",
       "\n",
       "    .dataframe thead th {\n",
       "        text-align: right;\n",
       "    }\n",
       "</style>\n",
       "<table border=\"1\" class=\"dataframe\">\n",
       "  <thead>\n",
       "    <tr style=\"text-align: right;\">\n",
       "      <th></th>\n",
       "      <th>is_winner</th>\n",
       "      <th>mean_placements_delta</th>\n",
       "      <th>placement_count_delta</th>\n",
       "      <th>placement_wo_unsure_count_delta</th>\n",
       "      <th>std_placements_delta</th>\n",
       "      <th>user_count_delta</th>\n",
       "    </tr>\n",
       "  </thead>\n",
       "  <tbody>\n",
       "    <tr>\n",
       "      <th>count</th>\n",
       "      <td>196.0</td>\n",
       "      <td>196.000000</td>\n",
       "      <td>196.000000</td>\n",
       "      <td>196.000000</td>\n",
       "      <td>196.000000</td>\n",
       "      <td>196.000000</td>\n",
       "    </tr>\n",
       "    <tr>\n",
       "      <th>mean</th>\n",
       "      <td>1.0</td>\n",
       "      <td>0.459196</td>\n",
       "      <td>929.612245</td>\n",
       "      <td>1016.413265</td>\n",
       "      <td>0.522310</td>\n",
       "      <td>325.010204</td>\n",
       "    </tr>\n",
       "    <tr>\n",
       "      <th>std</th>\n",
       "      <td>0.0</td>\n",
       "      <td>0.714760</td>\n",
       "      <td>1260.620219</td>\n",
       "      <td>1373.061194</td>\n",
       "      <td>1.153615</td>\n",
       "      <td>429.505834</td>\n",
       "    </tr>\n",
       "    <tr>\n",
       "      <th>min</th>\n",
       "      <td>1.0</td>\n",
       "      <td>-1.307129</td>\n",
       "      <td>-407.000000</td>\n",
       "      <td>-398.000000</td>\n",
       "      <td>-3.999633</td>\n",
       "      <td>-401.000000</td>\n",
       "    </tr>\n",
       "    <tr>\n",
       "      <th>25%</th>\n",
       "      <td>1.0</td>\n",
       "      <td>0.049607</td>\n",
       "      <td>226.750000</td>\n",
       "      <td>235.500000</td>\n",
       "      <td>-0.105199</td>\n",
       "      <td>90.750000</td>\n",
       "    </tr>\n",
       "    <tr>\n",
       "      <th>50%</th>\n",
       "      <td>1.0</td>\n",
       "      <td>0.313095</td>\n",
       "      <td>453.500000</td>\n",
       "      <td>487.000000</td>\n",
       "      <td>0.391636</td>\n",
       "      <td>185.500000</td>\n",
       "    </tr>\n",
       "    <tr>\n",
       "      <th>75%</th>\n",
       "      <td>1.0</td>\n",
       "      <td>0.722367</td>\n",
       "      <td>1213.750000</td>\n",
       "      <td>1258.250000</td>\n",
       "      <td>0.998587</td>\n",
       "      <td>400.500000</td>\n",
       "    </tr>\n",
       "    <tr>\n",
       "      <th>max</th>\n",
       "      <td>1.0</td>\n",
       "      <td>3.921222</td>\n",
       "      <td>9591.000000</td>\n",
       "      <td>9963.000000</td>\n",
       "      <td>5.088358</td>\n",
       "      <td>3193.000000</td>\n",
       "    </tr>\n",
       "  </tbody>\n",
       "</table>\n",
       "</div>"
      ],
      "text/plain": [
       "       is_winner  mean_placements_delta  placement_count_delta  \\\n",
       "count      196.0             196.000000             196.000000   \n",
       "mean         1.0               0.459196             929.612245   \n",
       "std          0.0               0.714760            1260.620219   \n",
       "min          1.0              -1.307129            -407.000000   \n",
       "25%          1.0               0.049607             226.750000   \n",
       "50%          1.0               0.313095             453.500000   \n",
       "75%          1.0               0.722367            1213.750000   \n",
       "max          1.0               3.921222            9591.000000   \n",
       "\n",
       "       placement_wo_unsure_count_delta  std_placements_delta  user_count_delta  \n",
       "count                       196.000000            196.000000        196.000000  \n",
       "mean                       1016.413265              0.522310        325.010204  \n",
       "std                        1373.061194              1.153615        429.505834  \n",
       "min                        -398.000000             -3.999633       -401.000000  \n",
       "25%                         235.500000             -0.105199         90.750000  \n",
       "50%                         487.000000              0.391636        185.500000  \n",
       "75%                        1258.250000              0.998587        400.500000  \n",
       "max                        9963.000000              5.088358       3193.000000  "
      ]
     },
     "execution_count": 69,
     "metadata": {},
     "output_type": "execute_result"
    }
   ],
   "source": [
    "mdf.describe()"
   ]
  },
  {
   "cell_type": "code",
   "execution_count": 42,
   "metadata": {},
   "outputs": [
    {
     "data": {
      "text/plain": [
       "[(1, 196)]"
      ]
     },
     "execution_count": 42,
     "metadata": {},
     "output_type": "execute_result"
    }
   ],
   "source": [
    "from collections import Counter\n",
    "Counter(mdf.is_winner).most_common()"
   ]
  },
  {
   "cell_type": "code",
   "execution_count": 70,
   "metadata": {},
   "outputs": [
    {
     "data": {
      "image/png": "[encoded data removed]",
      "text/plain": [
       "<matplotlib.figure.Figure at 0x7efe55d39fd0>"
      ]
     },
     "metadata": {},
     "output_type": "display_data"
    }
   ],
   "source": [
    "plt.hist(mdf.placement_wo_unsure_count_delta)\n",
    "plt.title(\"Delta between winner placements (by base users only)\\nand loser placements (by attack users only)\")\n",
    "plt.show()"
   ]
  },
  {
   "cell_type": "code",
   "execution_count": 71,
   "metadata": {},
   "outputs": [
    {
     "data": {
      "image/png": "[encoded data removed]",
      "text/plain": [
       "<matplotlib.figure.Figure at 0x7efe55d7fcc0>"
      ]
     },
     "metadata": {},
     "output_type": "display_data"
    },
    {
     "data": {
      "text/plain": [
       "(185, 3.5333305941065904, 2.8350951374207187)"
      ]
     },
     "execution_count": 71,
     "metadata": {},
     "output_type": "execute_result"
    }
   ],
   "source": [
    "l = []\n",
    "w = []\n",
    "for i, row in df.iterrows():\n",
    "    placement_wo_unsure_count_delta = row['placement_wo_unsure_count_delta']\n",
    "    if row.BaseUsers > row.AttackUsers:\n",
    "        # more base users than attack users\n",
    "        # how many additional pixels would the attackers have had to place to close the gap?\n",
    "        additional_placements_needed = placement_wo_unsure_count_delta / row.AttackUsers\n",
    "        l.append(additional_placements_needed)\n",
    "        \n",
    "plt.hist(l)\n",
    "plt.title(\"Additional placements/user needed to close PP gap\\n(among conflicts with more base users than attack users)\")\n",
    "plt.show()\n",
    "len(l), np.mean(l), np.median(l)"
   ]
  },
  {
   "cell_type": "code",
   "execution_count": 72,
   "metadata": {},
   "outputs": [
    {
     "data": {
      "text/plain": [
       "(1.7214703181097102, 2.076874182669772)"
      ]
     },
     "execution_count": 72,
     "metadata": {},
     "output_type": "execute_result"
    }
   ],
   "source": [
    "np.median(df['MeanofAttack PP']), np.median(df['MeanofBase PP'])"
   ]
  },
  {
   "cell_type": "code",
   "execution_count": 73,
   "metadata": {},
   "outputs": [
    {
     "data": {
      "text/plain": [
       "(4.5565654555304285, 264.69032940015154)"
      ]
     },
     "execution_count": 73,
     "metadata": {},
     "output_type": "execute_result"
    }
   ],
   "source": [
    "# for the losers to have placed more pixels (and thus to have won)\n",
    "# they would need to place a median of 5.46 placements/user compared to the actual median of 1.72 placements/user\n",
    "# which is a 265% increase in each user's activity\n",
    "np.median(df['MeanofAttack PP']) + np.median(l), (np.median(df['MeanofAttack PP']) + np.median(l)) / np.median(df['MeanofAttack PP']) * 100"
   ]
  },
  {
   "cell_type": "code",
   "execution_count": 74,
   "metadata": {},
   "outputs": [
    {
     "data": {
      "text/plain": [
       "(0.9897959183673469, 0.9795918367346939)"
      ]
     },
     "execution_count": 74,
     "metadata": {},
     "output_type": "execute_result"
    }
   ],
   "source": [
    "np.sum((mdf.placement_wo_unsure_count_delta >= 0) == mdf.is_winner) / len(mdf), \\\n",
    "np.sum((mdf.placement_count_delta >= 0) == mdf.is_winner) / len(mdf)"
   ]
  },
  {
   "cell_type": "code",
   "execution_count": 75,
   "metadata": {},
   "outputs": [
    {
     "data": {
      "text/plain": [
       "(0.9438775510204082, 0.7755102040816326, 0.6938775510204082)"
      ]
     },
     "execution_count": 75,
     "metadata": {},
     "output_type": "execute_result"
    }
   ],
   "source": [
    "np.sum((mdf.user_count_delta >= 0) == mdf.is_winner) / len(mdf), \\\n",
    "np.sum((mdf.mean_placements_delta >= 0) == mdf.is_winner) / len(mdf), \\\n",
    "np.sum((mdf.std_placements_delta >= 0) == mdf.is_winner) / len(mdf), \\"
   ]
  },
  {
   "cell_type": "code",
   "execution_count": 76,
   "metadata": {
    "collapsed": true
   },
   "outputs": [],
   "source": [
    "mdf['user_count_delta_positive'] = mdf.user_count_delta >= 0\n",
    "mdf['mean_placements_delta_positive'] = mdf.mean_placements_delta >= 0"
   ]
  },
  {
   "cell_type": "code",
   "execution_count": 77,
   "metadata": {},
   "outputs": [
    {
     "data": {
      "text/html": [
       "<div>\n",
       "<style scoped>\n",
       "    .dataframe tbody tr th:only-of-type {\n",
       "        vertical-align: middle;\n",
       "    }\n",
       "\n",
       "    .dataframe tbody tr th {\n",
       "        vertical-align: top;\n",
       "    }\n",
       "\n",
       "    .dataframe thead th {\n",
       "        text-align: right;\n",
       "    }\n",
       "</style>\n",
       "<table border=\"1\" class=\"dataframe\">\n",
       "  <thead>\n",
       "    <tr style=\"text-align: right;\">\n",
       "      <th>mean_placements_delta_positive</th>\n",
       "      <th>False</th>\n",
       "      <th>True</th>\n",
       "      <th>All</th>\n",
       "    </tr>\n",
       "    <tr>\n",
       "      <th>user_count_delta_positive</th>\n",
       "      <th></th>\n",
       "      <th></th>\n",
       "      <th></th>\n",
       "    </tr>\n",
       "  </thead>\n",
       "  <tbody>\n",
       "    <tr>\n",
       "      <th>False</th>\n",
       "      <td>NaN</td>\n",
       "      <td>11.0</td>\n",
       "      <td>11</td>\n",
       "    </tr>\n",
       "    <tr>\n",
       "      <th>True</th>\n",
       "      <td>44.0</td>\n",
       "      <td>141.0</td>\n",
       "      <td>185</td>\n",
       "    </tr>\n",
       "    <tr>\n",
       "      <th>All</th>\n",
       "      <td>44.0</td>\n",
       "      <td>152.0</td>\n",
       "      <td>196</td>\n",
       "    </tr>\n",
       "  </tbody>\n",
       "</table>\n",
       "</div>"
      ],
      "text/plain": [
       "mean_placements_delta_positive  False   True  All\n",
       "user_count_delta_positive                        \n",
       "False                             NaN   11.0   11\n",
       "True                             44.0  141.0  185\n",
       "All                              44.0  152.0  196"
      ]
     },
     "execution_count": 77,
     "metadata": {},
     "output_type": "execute_result"
    }
   ],
   "source": [
    "# No conflict was won without EITHER a higher avg placements per user OR a higher user count.\n",
    "# In general, higher user count is more relevant than greater placements per user\n",
    "pd.pivot_table(mdf, \n",
    "               index='user_count_delta_positive', \n",
    "               columns='mean_placements_delta_positive', \n",
    "               values='is_winner', margins=True, aggfunc=np.sum)"
   ]
  },
  {
   "cell_type": "code",
   "execution_count": 78,
   "metadata": {},
   "outputs": [
    {
     "data": {
      "text/plain": [
       "44"
      ]
     },
     "execution_count": 78,
     "metadata": {},
     "output_type": "execute_result"
    }
   ],
   "source": [
    "len(mdf[mdf.user_count_delta_positive & ~mdf.mean_placements_delta_positive])"
   ]
  },
  {
   "cell_type": "code",
   "execution_count": 79,
   "metadata": {},
   "outputs": [
    {
     "data": {
      "text/plain": [
       "0.7193877551020408"
      ]
     },
     "execution_count": 79,
     "metadata": {},
     "output_type": "execute_result"
    }
   ],
   "source": [
    "np.sum(((mdf.user_count_delta >= 0) & (mdf.mean_placements_delta >= 0)) == mdf.is_winner) / len(mdf)"
   ]
  },
  {
   "cell_type": "code",
   "execution_count": 80,
   "metadata": {
    "collapsed": true
   },
   "outputs": [],
   "source": [
    "# is it more important to have MORE TOTAL users or to have fewer users that are MORE ACTIVE?\n",
    "# one EXTRA USER is equivalent to X additional mean placements"
   ]
  },
  {
   "cell_type": "markdown",
   "metadata": {},
   "source": [
    "One potential discussion point:\n",
    "\n",
    "In contrast to other online settings [citation needed], conflicts on r/place are decided by lots of regular users and not by a small number of superusers.  We think that the reason for this more equitable environment for inter-community conflict is the rate-limiting of individual users, which causes sheer numbers to be more important than average level of investment, since total contribution of a single user is capped. \n",
    "\n",
    "Social media hoping to explicitly design for inter-community conflicts (ideological or otherwise) might think about incorporating rate-limiting as a way to construct conflicts that are more demographic in their outcomes and less controlled by the actions of a small number of highly-engaged users."
   ]
  },
  {
   "cell_type": "code",
   "execution_count": 21,
   "metadata": {},
   "outputs": [
    {
     "name": "stdout",
     "output_type": "stream",
     "text": [
      "Optimization terminated successfully.\n",
      "         Current function value: 0.152031\n",
      "         Iterations 10\n",
      "Intercept                                            66.177% increase      62.43%   (1.662)\n",
      "user_count_delta                                      1.744% increase      50.43%   (1.017)\n",
      "mean_placements_delta                               999.000% increase      93.89%   (15.365)\n"
     ]
    },
    {
     "data": {
      "text/html": [
       "<table class=\"simpletable\">\n",
       "<caption>Logit Regression Results</caption>\n",
       "<tr>\n",
       "  <th>Dep. Variable:</th>       <td>is_winner</td>    <th>  No. Observations:  </th>  <td>   196</td>  \n",
       "</tr>\n",
       "<tr>\n",
       "  <th>Model:</th>                 <td>Logit</td>      <th>  Df Residuals:      </th>  <td>   193</td>  \n",
       "</tr>\n",
       "<tr>\n",
       "  <th>Method:</th>                 <td>MLE</td>       <th>  Df Model:          </th>  <td>     2</td>  \n",
       "</tr>\n",
       "<tr>\n",
       "  <th>Date:</th>            <td>Tue, 09 Jun 2020</td> <th>  Pseudo R-squ.:     </th>  <td>0.7807</td>  \n",
       "</tr>\n",
       "<tr>\n",
       "  <th>Time:</th>                <td>15:12:20</td>     <th>  Log-Likelihood:    </th> <td> -29.798</td> \n",
       "</tr>\n",
       "<tr>\n",
       "  <th>converged:</th>             <td>True</td>       <th>  LL-Null:           </th> <td> -135.86</td> \n",
       "</tr>\n",
       "<tr>\n",
       "  <th>Covariance Type:</th>     <td>nonrobust</td>    <th>  LLR p-value:       </th> <td>8.695e-47</td>\n",
       "</tr>\n",
       "</table>\n",
       "<table class=\"simpletable\">\n",
       "<tr>\n",
       "            <td></td>               <th>coef</th>     <th>std err</th>      <th>z</th>      <th>P>|z|</th>  <th>[0.025</th>    <th>0.975]</th>  \n",
       "</tr>\n",
       "<tr>\n",
       "  <th>Intercept</th>             <td>    0.5079</td> <td>    0.360</td> <td>    1.411</td> <td> 0.158</td> <td>   -0.198</td> <td>    1.213</td>\n",
       "</tr>\n",
       "<tr>\n",
       "  <th>user_count_delta</th>      <td>    0.0173</td> <td>    0.003</td> <td>    5.795</td> <td> 0.000</td> <td>    0.011</td> <td>    0.023</td>\n",
       "</tr>\n",
       "<tr>\n",
       "  <th>mean_placements_delta</th> <td>    2.7321</td> <td>    0.656</td> <td>    4.165</td> <td> 0.000</td> <td>    1.446</td> <td>    4.018</td>\n",
       "</tr>\n",
       "</table><br/><br/>Possibly complete quasi-separation: A fraction 0.23 of observations can be<br/>perfectly predicted. This might indicate that there is complete<br/>quasi-separation. In this case some parameters will not be identified."
      ],
      "text/plain": [
       "<class 'statsmodels.iolib.summary.Summary'>\n",
       "\"\"\"\n",
       "                           Logit Regression Results                           \n",
       "==============================================================================\n",
       "Dep. Variable:              is_winner   No. Observations:                  196\n",
       "Model:                          Logit   Df Residuals:                      193\n",
       "Method:                           MLE   Df Model:                            2\n",
       "Date:                Tue, 09 Jun 2020   Pseudo R-squ.:                  0.7807\n",
       "Time:                        15:12:20   Log-Likelihood:                -29.798\n",
       "converged:                       True   LL-Null:                       -135.86\n",
       "Covariance Type:            nonrobust   LLR p-value:                 8.695e-47\n",
       "=========================================================================================\n",
       "                            coef    std err          z      P>|z|      [0.025      0.975]\n",
       "-----------------------------------------------------------------------------------------\n",
       "Intercept                 0.5079      0.360      1.411      0.158      -0.198       1.213\n",
       "user_count_delta          0.0173      0.003      5.795      0.000       0.011       0.023\n",
       "mean_placements_delta     2.7321      0.656      4.165      0.000       1.446       4.018\n",
       "=========================================================================================\n",
       "\n",
       "Possibly complete quasi-separation: A fraction 0.23 of observations can be\n",
       "perfectly predicted. This might indicate that there is complete\n",
       "quasi-separation. In this case some parameters will not be identified.\n",
       "\"\"\""
      ]
     },
     "execution_count": 21,
     "metadata": {},
     "output_type": "execute_result"
    }
   ],
   "source": [
    "formula = \"\"\"\n",
    "is_winner ~ \n",
    "    user_count_delta\n",
    "    + placement_count_delta\n",
    "    + mean_placements_delta\n",
    "    + std_placements_delta\n",
    "    + 1\n",
    "\"\"\"\n",
    "formula = \"\"\"\n",
    "is_winner ~ \n",
    "    user_count_delta\n",
    "    + mean_placements_delta\n",
    "    + 1\n",
    "\"\"\"\n",
    "model = smf.logit(formula=formula, \n",
    "                  data=mdf)\n",
    "res = model.fit(maxiter=100)\n",
    "print_feature_summary(res)\n",
    "res.summary()"
   ]
  },
  {
   "cell_type": "code",
   "execution_count": 45,
   "metadata": {},
   "outputs": [
    {
     "data": {
      "image/png": "[encoded data removed]",
      "text/plain": [
       "<matplotlib.figure.Figure at 0x7f27c2b14438>"
      ]
     },
     "metadata": {},
     "output_type": "display_data"
    }
   ],
   "source": [
    "plt.hist(df.placement_count_delta, bins=50)\n",
    "plt.show()"
   ]
  },
  {
   "cell_type": "code",
   "execution_count": null,
   "metadata": {
    "collapsed": true
   },
   "outputs": [],
   "source": []
  },
  {
   "cell_type": "code",
   "execution_count": null,
   "metadata": {
    "collapsed": true
   },
   "outputs": [],
   "source": []
  }
 ],
 "metadata": {
  "kernelspec": {
   "display_name": "Python 3",
   "language": "python",
   "name": "python3"
  },
  "language_info": {
   "codemirror_mode": {
    "name": "ipython",
    "version": 3
   },
   "file_extension": ".py",
   "mimetype": "text/x-python",
   "name": "python",
   "nbconvert_exporter": "python",
   "pygments_lexer": "ipython3",
   "version": "3.6.1"
  }
 },
 "nbformat": 4,
 "nbformat_minor": 2
}
