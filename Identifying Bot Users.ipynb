{
 "cells": [
  {
   "cell_type": "code",
   "execution_count": null,
   "metadata": {
    "collapsed": true
   },
   "outputs": [],
   "source": [
    "import sqlite3, statistics\n",
    "from tqdm import tnrange, tqdm_notebook\n",
    "\n",
    "conn = sqlite3.connect('dataset/tile_placements.db')\n",
    "c = conn.cursor()"
   ]
  },
  {
   "cell_type": "code",
   "execution_count": null,
   "metadata": {
    "collapsed": false
   },
   "outputs": [],
   "source": [
    "def get_list_users(minimum_placements=20):\n",
    "    c.execute(\"SELECT user_name FROM tile_placements GROUP BY user_name HAVING COUNT(*) >= {}\".format(minimum_placements))\n",
    "    result = list(c.fetchall())\n",
    "    for x in range(len(result)):\n",
    "        result[x] = result[x][0]\n",
    "    result.remove('')\n",
    "    return result\n",
    "\n",
    "def get_user_placement_timestamp(user_name):\n",
    "    c.execute(\"SELECT timestamp FROM tile_placements WHERE user_name = '{}';\".format(user_name))\n",
    "    result = list(c.fetchall())\n",
    "    for x in range(len(result)):\n",
    "        result[x] = result[x][0]\n",
    "    return result\n",
    "\n",
    "def get_timestamp_difference(timestamps):\n",
    "    result = []\n",
    "    timestamps.sort()\n",
    "    for x in range(len(timestamps)-1):\n",
    "        result.append(timestamps[x+1]-timestamps[x])\n",
    "    return result\n",
    "\n",
    "def rolling_window_std(timestamp_differences, window_size=5):\n",
    "    result = []\n",
    "    for x in range(len(timestamp_differences)-window_size):\n",
    "        window = timestamp_difference[x:x+window_size]\n",
    "        result.append(statistics.stdev(window))\n",
    "    return result"
   ]
  },
  {
   "cell_type": "code",
   "execution_count": null,
   "metadata": {
    "collapsed": false,
    "scrolled": true
   },
   "outputs": [],
   "source": [
    "user_names = get_list_users()\n",
    "for user_name in tqdm_notebook(range(len(user_names))):\n",
    "    user_name = user_names[user_name]\n",
    "    user_timestamp_data = get_user_placement_timestamp(user_name)\n",
    "    timestamp_difference = get_timestamp_difference(user_timestamp_data)\n",
    "    rolling_window_std_results = rolling_window_std(timestamp_difference)"
   ]
  },
  {
   "cell_type": "code",
   "execution_count": null,
   "metadata": {
    "collapsed": true
   },
   "outputs": [],
   "source": []
  }
 ],
 "metadata": {
  "kernelspec": {
   "display_name": "Python 3.6",
   "language": "python",
   "name": "python36"
  },
  "language_info": {
   "codemirror_mode": {
    "name": "ipython",
    "version": 3
   },
   "file_extension": ".py",
   "mimetype": "text/x-python",
   "name": "python",
   "nbconvert_exporter": "python",
   "pygments_lexer": "ipython3",
   "version": "3.6.3"
  }
 },
 "nbformat": 4,
 "nbformat_minor": 0
}
