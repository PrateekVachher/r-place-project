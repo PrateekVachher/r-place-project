{
 "cells": [
  {
   "cell_type": "code",
   "execution_count": 5,
   "metadata": {
    "collapsed": true
   },
   "outputs": [],
   "source": [
    "import sqlite3, statistics\n",
    "from tqdm import tnrange, tqdm_notebook\n",
    "\n",
    "conn = sqlite3.connect('../dataset/tile_placements.db')\n",
    "c = conn.cursor()"
   ]
  },
  {
   "cell_type": "code",
   "execution_count": 6,
   "metadata": {
    "collapsed": false
   },
   "outputs": [],
   "source": [
    "def get_list_users(minimum_placements=20):\n",
    "    c.execute(\"SELECT user_name FROM tile_placements GROUP BY user_name HAVING COUNT(*) >= {}\".format(minimum_placements))\n",
    "    result = list(c.fetchall())\n",
    "    for x in range(len(result)):\n",
    "        result[x] = result[x][0]\n",
    "    result.remove('')\n",
    "    return result\n",
    "\n",
    "def get_user_placement_timestamp(user_name):\n",
    "    c.execute(\"SELECT timestamp FROM tile_placements WHERE user_name = '{}';\".format(user_name))\n",
    "    result = list(c.fetchall())\n",
    "    for x in range(len(result)):\n",
    "        result[x] = result[x][0]\n",
    "    return result\n",
    "\n",
    "def get_timestamp_difference(timestamps):\n",
    "    result = []\n",
    "    timestamps.sort()\n",
    "    for x in range(len(timestamps)-1):\n",
    "        result.append(timestamps[x+1]-timestamps[x])\n",
    "    return result\n",
    "\n",
    "def rolling_window_std(timestamp_differences, window_size=5, threshold = 2): # 2 seconds\n",
    "    result = [0]*len(timestamp_differences)\n",
    "    for x in range(len(timestamp_differences)-window_size):\n",
    "        window = timestamp_differences[x:x+window_size]\n",
    "        std = statistics.stdev(window)\n",
    "        if std <= threshold:\n",
    "            for y in range(window_size):\n",
    "                result[x+y] += 1\n",
    "    return result\n",
    "\n",
    "def insert_bot_results(user_name, actual_score, total_score, percentage):\n",
    "    c.execute('''INSERT INTO bot_users (user_name, actual_score, total_score, percentage)\n",
    "                 VALUES (?, ?, ?, ?);''', (user_name, actual_score, total_score, percentage))\n",
    "    \n",
    "def get_bots_higher_than(percentage = 50):\n",
    "    c.execute('''SELECT COUNT(*) FROM bot_users WHERE percentage >= {};'''.format(percentage))\n",
    "    print (c.fetchone())"
   ]
  },
  {
   "cell_type": "code",
   "execution_count": 7,
   "metadata": {
    "collapsed": false,
    "scrolled": true
   },
   "outputs": [
    {
     "data": {
      "application/vnd.jupyter.widget-view+json": {
       "model_id": "e4c82ac85ff3453aab021032b14993d3",
       "version_major": 2,
       "version_minor": 0
      },
      "text/plain": [
       "HBox(children=(IntProgress(value=0, max=198174), HTML(value='')))"
      ]
     },
     "metadata": {},
     "output_type": "display_data"
    },
    {
     "name": "stdout",
     "output_type": "stream",
     "text": [
      "\n"
     ]
    }
   ],
   "source": [
    "user_names = get_list_users()\n",
    "\n",
    "for user_name in tqdm_notebook(range(len(user_names))):\n",
    "    user_name = user_names[user_name]\n",
    "    user_timestamp_data = get_user_placement_timestamp(user_name)\n",
    "    timestamp_difference = get_timestamp_difference(user_timestamp_data)\n",
    "    rolling_window_std_results = rolling_window_std(timestamp_difference)\n",
    "    total_score = 20+5*(len(rolling_window_std_results)-8)\n",
    "    actual_score = sum(rolling_window_std_results)\n",
    "    percentage = actual_score / total_score * 100\n",
    "    insert_bot_results(user_name, actual_score, total_score, percentage)\n",
    "conn.commit()"
   ]
  },
  {
   "cell_type": "code",
   "execution_count": 9,
   "metadata": {
    "collapsed": false
   },
   "outputs": [
    {
     "name": "stdout",
     "output_type": "stream",
     "text": [
      "(3125,)\n"
     ]
    }
   ],
   "source": [
    "get_bots_higher_than(50)"
   ]
  },
  {
   "cell_type": "code",
   "execution_count": null,
   "metadata": {
    "collapsed": true
   },
   "outputs": [],
   "source": []
  }
 ],
 "metadata": {
  "kernelspec": {
   "display_name": "Python 3.6",
   "language": "python",
   "name": "python36"
  },
  "language_info": {
   "codemirror_mode": {
    "name": "ipython",
    "version": 3
   },
   "file_extension": ".py",
   "mimetype": "text/x-python",
   "name": "python",
   "nbconvert_exporter": "python",
   "pygments_lexer": "ipython3",
   "version": "3.6.3"
  }
 },
 "nbformat": 4,
 "nbformat_minor": 0
}
