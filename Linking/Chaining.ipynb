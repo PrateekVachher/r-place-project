{
 "cells": [
  {
   "cell_type": "code",
   "execution_count": 6,
   "metadata": {
    "collapsed": false
   },
   "outputs": [],
   "source": [
    "%matplotlib inline\n",
    "import matplotlib.pyplot as plt\n",
    "import numpy as np\n",
    "import pandas as pd\n",
    "from tqdm import tqdm_notebook\n",
    "import pickle\n",
    "dump_directory = \"/home/srivbane/shared/caringbridge/data/projects/place-project/DataResults/\""
   ]
  },
  {
   "cell_type": "code",
   "execution_count": 2,
   "metadata": {
    "collapsed": true
   },
   "outputs": [],
   "source": [
    "class Node:\n",
    "    def __init__(self, val, num):\n",
    "        self.val = val\n",
    "        self.filenum = num\n",
    "        self.next = None\n",
    "\n",
    "    def __str__(self):\n",
    "        return str(self.val)\n",
    "    \n",
    "class Chain:\n",
    "    def __init__(self):\n",
    "        self.head = None\n",
    "        self.lastchange = 0\n",
    "        self.length = 0\n",
    "        self.tail = None\n",
    "        \n",
    "    def add_node(self,val,num):\n",
    "        self.length += 1\n",
    "        node = Node(val, num)\n",
    "        p1 = self.head\n",
    "        if p1 == None:\n",
    "            self.head = node\n",
    "        else:\n",
    "            self.tail.next = node\n",
    "        self.tail = node\n",
    "    \n",
    "    def getlast(self):\n",
    "        return self.tail\n",
    "    \n",
    "    def getlength(self):\n",
    "        return self.length\n",
    "\n",
    "    def __str__(self):\n",
    "        tbr = \"\"\n",
    "        p1 = self.head\n",
    "        while p1 != None:\n",
    "            tbr += str(p1.val)+\" -> \"\n",
    "            p1 = p1.next\n",
    "        if len(tbr) > 2:\n",
    "            return tbr[:-3]\n",
    "        return tbr"
   ]
  },
  {
   "cell_type": "code",
   "execution_count": 3,
   "metadata": {
    "collapsed": true
   },
   "outputs": [],
   "source": [
    "def load(minute):\n",
    "    folder_id = minute//60\n",
    "    data = pickle.load(open(dump_directory+\"LinkingResults/hour-\"+str(folder_id)+\"/links-\"+str(minute).zfill(4)+\".res\", \"rb\"))\n",
    "    return data\n",
    "\n",
    "def get_merge(data):\n",
    "    val = data.values()\n",
    "    count_db = {}\n",
    "    \n",
    "    for x in val:\n",
    "        for y in x:\n",
    "            if y not in count_db:\n",
    "                count_db[y] = 1\n",
    "            else:\n",
    "                count_db[y] += 1\n",
    "    \n",
    "    to_be_returned = []\n",
    "    for x in count_db:\n",
    "        if count_db[x] > 1:\n",
    "            to_be_returned.append(x)\n",
    "    return to_be_returned"
   ]
  },
  {
   "cell_type": "code",
   "execution_count": 28,
   "metadata": {
    "collapsed": false
   },
   "outputs": [
    {
     "data": {
      "application/vnd.jupyter.widget-view+json": {
       "model_id": "5ac02711a50e442d8cdb00bcb729c1fc",
       "version_major": 2,
       "version_minor": 0
      },
      "text/plain": [
       "HBox(children=(IntProgress(value=0, max=898), HTML(value='')))"
      ]
     },
     "metadata": {},
     "output_type": "display_data"
    },
    {
     "name": "stdout",
     "output_type": "stream",
     "text": [
      "\n",
      "Merge Count: 14208\n",
      "Split Count: 6220\n",
      "Completed Chains: 17118\n",
      "In-Progress Chains: 674\n",
      "Total Chains: 17792\n"
     ]
    }
   ],
   "source": [
    "chains_inprogress = []\n",
    "chains_completed = []\n",
    "\n",
    "splits_count = 0\n",
    "merge_count = 0\n",
    "\n",
    "for num in tqdm_notebook(range(898)):\n",
    "    links = load(num)\n",
    "\n",
    "    if num == 0:\n",
    "        for x in links:\n",
    "            new_chain = Chain()\n",
    "            new_chain.add_node(x, num)\n",
    "            new_chain.add_node(links[x][0], num+1)\n",
    "            chains_inprogress.append(new_chain)\n",
    "    else:\n",
    "        merging_nodes = set(get_merge(links))\n",
    "        \n",
    "        for y in links:\n",
    "            found = False\n",
    "            if len(set(links[y]) & merging_nodes) > 0:             # MERGING NODES\n",
    "                merge_count += 1\n",
    "                continue\n",
    "\n",
    "            for z in chains_inprogress:\n",
    "                if z.getlast().val == y and z.lastchange != num:       \n",
    "                    z.lastchange = num\n",
    "                    found = True\n",
    "                    if len(links[y]) > 1:                         # NODES SPLITTING\n",
    "                        z.lastchange -= 1\n",
    "                        splits_count += 1\n",
    "                    else:\n",
    "                        z.add_node(links[y][0], num+1)\n",
    "                    break\n",
    "\n",
    "            if not found:                                       # NEW CHAIN STARTING\n",
    "                new_chain = Chain()\n",
    "                new_chain.add_node(y, num)\n",
    "                new_chain.add_node(links[y][0], num+1)\n",
    "                new_chain.lastchange = num\n",
    "                chains_inprogress.append(new_chain)\n",
    "\n",
    "    to_be_removed = []\n",
    "    \n",
    "    for x in range(len(chains_inprogress)):\n",
    "        if chains_inprogress[x].lastchange == num - 10:\n",
    "            chains_completed.append(chains_inprogress[x])\n",
    "            to_be_removed.append(x)\n",
    "    \n",
    "    for x in to_be_removed[::-1]:\n",
    "        chains_inprogress.pop(x)\n",
    "    \n",
    "\n",
    "print (\"Merge Count:\", merge_count)\n",
    "print (\"Split Count:\", splits_count)\n",
    "print (\"Completed Chains:\", len(chains_completed))\n",
    "print (\"In-Progress Chains:\", len(chains_inprogress))\n",
    "print (\"Total Chains:\", len(chains_completed)+len(chains_inprogress))\n",
    "\n",
    "chains_completed.extend(chains_inprogress)"
   ]
  },
  {
   "cell_type": "code",
   "execution_count": 29,
   "metadata": {
    "collapsed": false,
    "scrolled": true
   },
   "outputs": [],
   "source": [
    "def average_length(completed):\n",
    "    l = 0\n",
    "    for x in chains_completed:\n",
    "        l += x.getlength()\n",
    "    return l/len(chains_completed)\n",
    "    \n",
    "def maximum_length(chains_completed):\n",
    "    max = 0\n",
    "    for x in chains_completed:\n",
    "        if x.getlength() > max:\n",
    "            max = x.getlength()\n",
    "    return max\n",
    "\n",
    "def minimum_length(chains_completed):\n",
    "    min = len(chains_completed)\n",
    "    for x in chains_completed:\n",
    "        if x.getlength() < min:\n",
    "            min = x.getlength()\n",
    "    return min\n",
    "\n",
    "def distribution_length(chains_completed):\n",
    "    distribution = []\n",
    "    for x in chains_completed:\n",
    "        distribution.append(x.getlength())\n",
    "    return distribution\n",
    "\n",
    "def distribution_histogram(distribution):\n",
    "    plt.hist(distribution, bins=maximum_length(chains_completed))\n",
    "    plt.ylabel('Number of Conflicts')\n",
    "    plt.xlabel('Length of Conflict (minutes)')\n",
    "    plt.yscale('log') \n",
    "    plt.show()"
   ]
  },
  {
   "cell_type": "code",
   "execution_count": 30,
   "metadata": {
    "collapsed": false
   },
   "outputs": [
    {
     "name": "stdout",
     "output_type": "stream",
     "text": [
      "Minimum Length: 2\n",
      "Maximum Length: 875\n",
      "Average Length: 20.29310926258993\n"
     ]
    },
    {
     "data": {
      "image/png": "[encoded data removed]",
      "text/plain": [
       "<matplotlib.figure.Figure at 0x2b4d7f39a9e8>"
      ]
     },
     "metadata": {
      "needs_background": "light"
     },
     "output_type": "display_data"
    }
   ],
   "source": [
    "print (\"Minimum Length:\", minimum_length(chains_completed))\n",
    "print (\"Maximum Length:\", maximum_length(chains_completed))\n",
    "print (\"Average Length:\", average_length(chains_completed))\n",
    "distribution_histogram(distribution_length(chains_completed))"
   ]
  },
  {
   "cell_type": "code",
   "execution_count": null,
   "metadata": {
    "collapsed": false
   },
   "outputs": [],
   "source": []
  }
 ],
 "metadata": {
  "kernelspec": {
   "display_name": "Python 3.6",
   "language": "python",
   "name": "python36"
  },
  "language_info": {
   "codemirror_mode": {
    "name": "ipython",
    "version": 3
   },
   "file_extension": ".py",
   "mimetype": "text/x-python",
   "name": "python",
   "nbconvert_exporter": "python",
   "pygments_lexer": "ipython3",
   "version": "3.6.3"
  }
 },
 "nbformat": 4,
 "nbformat_minor": 0
}
