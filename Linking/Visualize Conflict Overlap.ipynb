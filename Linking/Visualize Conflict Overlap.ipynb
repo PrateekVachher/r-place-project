{
 "cells": [
  {
   "cell_type": "code",
   "execution_count": 3,
   "metadata": {},
   "outputs": [],
   "source": [
    "import pickle\n",
    "from collections import defaultdict\n",
    "from tqdm import tqdm_notebook\n",
    "import multiprocessing\n",
    "import sys, socket, os\n",
    "import matplotlib.pyplot as plt\n",
    "\n",
    "dump_directory = \"/home/srivbane/shared/caringbridge/data/projects/place-project/DataResults\"\n",
    "\n",
    "def load_to_memory(minute):\n",
    "    \n",
    "    folder_id = minute//60\n",
    "    df = pickle.load(open(dump_directory+\"/ClusterResults/hour-\"+str(folder_id)+\"/cluster-\"+str(minute).zfill(4)+\".res\", \"rb\"))\n",
    "    dict1 = {}\n",
    "    counter = 0\n",
    "    for x in df:\n",
    "        dict1[counter] = x\n",
    "        counter += 1\n",
    "    return dict1\n",
    "    \n",
    "def check_intersection(region1, region2):\n",
    "    \n",
    "    similarity_threshold = 0.25\n",
    "    \n",
    "    region1 = set(region1)\n",
    "    region2 = set(region2)\n",
    "\n",
    "    smaller_set = region1 if len(region1) < len(region2) else region2\n",
    "    intersecting_set = region1 & region2\n",
    "\n",
    "    if len(intersecting_set) / len(smaller_set) > 0:\n",
    "        overlap.append(round(len(intersecting_set) / len(smaller_set), 2))\n",
    "        return True\n",
    "    \n",
    "    return False\n",
    "\n",
    "\n",
    "def compare_regions(initial_time):\n",
    "    t1 = initial_time\n",
    "    t2 = initial_time+1\n",
    "        \n",
    "    links = defaultdict(list)\n",
    "    \n",
    "    r1 = load_to_memory(t1)\n",
    "    r2 = load_to_memory(t2)\n",
    "\n",
    "    for t1_id in r1:\n",
    "        \n",
    "        t1_region = r1[t1_id]\n",
    "        \n",
    "        for t2_id in r2:\n",
    "            \n",
    "            t2_region = r2[t2_id]\n",
    "            \n",
    "            is_subset = check_intersection(t1_region, t2_region)\n",
    "            \n",
    "            if is_subset:\n",
    "                links[t1_id].append(t2_id)"
   ]
  },
  {
   "cell_type": "code",
   "execution_count": 4,
   "metadata": {},
   "outputs": [
    {
     "data": {
      "application/vnd.jupyter.widget-view+json": {
       "model_id": "da571c7ad0f54a56979c86722d67ed6c",
       "version_major": 2,
       "version_minor": 0
      },
      "text/plain": [
       "HBox(children=(IntProgress(value=0, max=30), HTML(value='')))"
      ]
     },
     "metadata": {},
     "output_type": "display_data"
    },
    {
     "name": "stdout",
     "output_type": "stream",
     "text": [
      "\n"
     ]
    },
    {
     "data": {
      "image/png": "[encoded data removed]",
      "text/plain": [
       "<Figure size 432x288 with 1 Axes>"
      ]
     },
     "metadata": {
      "needs_background": "light"
     },
     "output_type": "display_data"
    }
   ],
   "source": [
    "overlap = []\n",
    "\n",
    "for x in tqdm_notebook(range(30)):\n",
    "    compare_regions(x)\n",
    "    \n",
    "def distribution_histogram(distribution):\n",
    "    plt.hist(distribution, bins = 100)\n",
    "    plt.ylabel('Number of Conflicts')\n",
    "    plt.xlabel('Overlap Ratio')\n",
    "    plt.yscale('log') \n",
    "    plt.show()\n",
    "    \n",
    "distribution_histogram(overlap)"
   ]
  },
  {
   "cell_type": "code",
   "execution_count": null,
   "metadata": {
    "collapsed": true
   },
   "outputs": [],
   "source": []
  }
 ],
 "metadata": {
  "kernelspec": {
   "display_name": "Python 3",
   "language": "python",
   "name": "python3"
  },
  "language_info": {
   "codemirror_mode": {
    "name": "ipython",
    "version": 3
   },
   "file_extension": ".py",
   "mimetype": "text/x-python",
   "name": "python",
   "nbconvert_exporter": "python",
   "pygments_lexer": "ipython3",
   "version": "3.6.8"
  }
 },
 "nbformat": 4,
 "nbformat_minor": 2
}
