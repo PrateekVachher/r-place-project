{
    "metadata": {
        "kernelspec": {
            "name": "SQL",
            "display_name": "SQL",
            "language": "sql"
        },
        "language_info": {
            "name": "sql",
            "version": ""
        }
    },
    "nbformat_minor": 2,
    "nbformat": 4,
    "cells": [
        {
            "cell_type": "markdown",
            "source": "<h2><b>Create Placement Table</b></h2>",
            "metadata": {}
        },
        {
            "cell_type": "code",
            "source": [
                "CREATE TABLE tile_placements \r\n",
                "(\r\n",
                "    timestamp INT NOT NULL,\r\n",
                "    user_hash VARCHAR(200) NOT NULL,\r\n",
                "    user_name  VARCHAR(200),\r\n",
                "    x_coordinate  INT NOT NULL,\r\n",
                "    y_coordinate INT NOT NULL,\r\n",
                "    color INT NOT NULL\r\n",
                ")"
            ],
            "metadata": {},
            "outputs": [
                {
                    "output_type": "display_data",
                    "data": {
                        "text/html": "Commands completed successfully."
                    },
                    "metadata": {}
                },
                {
                    "output_type": "display_data",
                    "data": {
                        "text/html": "Total execution time: 00:00:00.097"
                    },
                    "metadata": {}
                }
            ],
            "execution_count": 1
        },
        {
            "cell_type": "markdown",
            "source": "<h2><b>Show Table Contents</b></h2>",
            "metadata": {}
        },
        {
            "cell_type": "code",
            "source": "SELECT COUNT(*) FROM tile_placements;",
            "metadata": {},
            "outputs": [
                {
                    "output_type": "display_data",
                    "data": {
                        "text/html": "(1 row affected)"
                    },
                    "metadata": {}
                },
                {
                    "output_type": "display_data",
                    "data": {
                        "text/html": "Total execution time: 00:00:00.057"
                    },
                    "metadata": {}
                },
                {
                    "output_type": "execute_result",
                    "metadata": {},
                    "execution_count": 10,
                    "data": {
                        "application/vnd.dataresource+json": {
                            "schema": {
                                "fields": [
                                    {
                                        "name": "(No column name)"
                                    }
                                ]
                            },
                            "data": [
                                {
                                    "0": "0"
                                }
                            ]
                        },
                        "text/html": "<table><tr><th>(No column name)</th></tr><tr><td>0</td></tr></table>"
                    }
                }
            ],
            "execution_count": 10
        },
        {
            "cell_type": "markdown",
            "source": "<h2><b>Empty Table Contents</b></h2>",
            "metadata": {}
        },
        {
            "cell_type": "code",
            "source": "DELETE FROM tile_placements;",
            "metadata": {},
            "outputs": [
                {
                    "output_type": "display_data",
                    "data": {
                        "text/html": "(10843 rows affected)"
                    },
                    "metadata": {}
                },
                {
                    "output_type": "display_data",
                    "data": {
                        "text/html": "Total execution time: 00:00:02.988"
                    },
                    "metadata": {}
                }
            ],
            "execution_count": 9
        }
    ]
}