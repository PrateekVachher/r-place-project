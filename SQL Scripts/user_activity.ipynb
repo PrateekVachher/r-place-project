{
    "metadata": {
        "kernelspec": {
            "name": "SQL",
            "display_name": "SQL",
            "language": "sql"
        },
        "language_info": {
            "name": "sql",
            "version": ""
        }
    },
    "nbformat_minor": 2,
    "nbformat": 4,
    "cells": [
        {
            "cell_type": "markdown",
            "source": "<h2><b>Create User Activity Table</b></h2>",
            "metadata": {}
        },
        {
            "cell_type": "code",
            "source": [
                "CREATE TABLE user_activity \r\n",
                "(\r\n",
                "    user_name VARCHAR(200) NOT NULL,\r\n",
                "    activity VARCHAR(100) NOT NULL,\r\n",
                "    count  INT NOT NULL,\r\n",
                "    sub_reddit  VARCHAR(200) NOT NULL,\r\n",
                ")"
            ],
            "metadata": {},
            "outputs": [
                {
                    "output_type": "display_data",
                    "data": {
                        "text/html": "Commands completed successfully."
                    },
                    "metadata": {}
                },
                {
                    "output_type": "display_data",
                    "data": {
                        "text/html": "Total execution time: 00:00:00.061"
                    },
                    "metadata": {}
                }
            ],
            "execution_count": 2
        },
        {
            "cell_type": "markdown",
            "source": "<h2><b>Show Table Contents</b></h2>",
            "metadata": {}
        },
        {
            "cell_type": "code",
            "source": "SELECT * FROM user_activity;",
            "metadata": {},
            "outputs": [
                {
                    "output_type": "display_data",
                    "data": {
                        "text/html": "(0 rows affected)"
                    },
                    "metadata": {}
                },
                {
                    "output_type": "execute_result",
                    "metadata": {},
                    "execution_count": 3,
                    "data": {
                        "application/vnd.dataresource+json": {
                            "schema": {
                                "fields": [
                                    {
                                        "name": "user_name"
                                    },
                                    {
                                        "name": "activity"
                                    },
                                    {
                                        "name": "count"
                                    },
                                    {
                                        "name": "sub_reddit"
                                    }
                                ]
                            },
                            "data": []
                        },
                        "text/html": "<table><tr><th>user_name</th><th>activity</th><th>count</th><th>sub_reddit</th></tr></table>"
                    }
                },
                {
                    "output_type": "display_data",
                    "data": {
                        "text/html": "Total execution time: 00:00:00.059"
                    },
                    "metadata": {}
                }
            ],
            "execution_count": 3
        },
        {
            "cell_type": "markdown",
            "source": "<h2><b>Empty Table Contents</b></h2>",
            "metadata": {}
        },
        {
            "cell_type": "code",
            "source": "DELETE FROM user_activity;",
            "metadata": {},
            "outputs": [],
            "execution_count": 0
        }
    ]
}