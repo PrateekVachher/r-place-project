{
 "cells": [
  {
   "cell_type": "markdown",
   "metadata": {},
   "source": [
    "## Load Tile Placements Table"
   ]
  },
  {
   "cell_type": "code",
   "execution_count": null,
   "metadata": {
    "collapsed": true
   },
   "outputs": [],
   "source": [
    "import sqlite3\n",
    "conn = sqlite3.connect('../dataset/tile_placements.db')\n",
    "c = conn.cursor()"
   ]
  },
  {
   "cell_type": "code",
   "execution_count": null,
   "metadata": {
    "collapsed": true
   },
   "outputs": [],
   "source": [
    "conn.close()"
   ]
  },
  {
   "cell_type": "markdown",
   "metadata": {},
   "source": [
    "---"
   ]
  },
  {
   "cell_type": "markdown",
   "metadata": {},
   "source": [
    "## Create Tile Placements Table"
   ]
  },
  {
   "cell_type": "code",
   "execution_count": null,
   "metadata": {
    "collapsed": true
   },
   "outputs": [],
   "source": [
    "c.execute('''CREATE TABLE tile_placements \n",
    "            (timestamp INTEGER, user_hash TEXT, user_name TEXT, x_coord INTEGER, y_coord INTEGER, color INTEGER)''')\n",
    "conn.commit()"
   ]
  },
  {
   "cell_type": "markdown",
   "metadata": {},
   "source": [
    "---"
   ]
  },
  {
   "cell_type": "markdown",
   "metadata": {},
   "source": [
    "## Insert CSV File to Tile Placements Table "
   ]
  },
  {
   "cell_type": "code",
   "execution_count": null,
   "metadata": {
    "collapsed": true
   },
   "outputs": [],
   "source": [
    "def insert_tile_placement(timestamp, user_hash, user_name, x_coord, y_coord, color):\n",
    "    c.execute('''INSERT INTO tile_placements (timestamp, user_hash, user_name, x_coord, y_coord, color)\n",
    "                 VALUES (?, ?, ?, ?, ?, ?);''', (timestamp, user_hash, user_name, x_coord, y_coord, color))"
   ]
  },
  {
   "cell_type": "code",
   "execution_count": null,
   "metadata": {
    "collapsed": false
   },
   "outputs": [],
   "source": [
    "read_data = open(\"../../ShortcutRedditDir/RawData/place/tile_placements_with_usernames.csv\").readlines()[1:]\n",
    "for line in read_data:\n",
    "    line = line.split(',')\n",
    "    insert_tile_placement(int(line[0])/1000, line[1], line[2],  int(line[3]), int(line[4]), int(line[5]))\n",
    "conn.commit()"
   ]
  },
  {
   "cell_type": "markdown",
   "metadata": {},
   "source": [
    "---"
   ]
  },
  {
   "cell_type": "markdown",
   "metadata": {},
   "source": [
    "## Empty Table"
   ]
  },
  {
   "cell_type": "code",
   "execution_count": null,
   "metadata": {
    "collapsed": true
   },
   "outputs": [],
   "source": [
    "c.execute(\"DELETE FROM tile_placements;\")\n",
    "conn.commit()"
   ]
  },
  {
   "cell_type": "markdown",
   "metadata": {},
   "source": [
    "---"
   ]
  },
  {
   "cell_type": "markdown",
   "metadata": {},
   "source": [
    "##  Show Size of Table "
   ]
  },
  {
   "cell_type": "code",
   "execution_count": null,
   "metadata": {
    "collapsed": false
   },
   "outputs": [],
   "source": [
    "c.execute('SELECT COUNT(*) FROM tile_placements;')\n",
    "print (c.fetchone())"
   ]
  },
  {
   "cell_type": "markdown",
   "metadata": {},
   "source": [
    "---"
   ]
  },
  {
   "cell_type": "markdown",
   "metadata": {},
   "source": [
    "##  Show Contents of Table "
   ]
  },
  {
   "cell_type": "code",
   "execution_count": null,
   "metadata": {
    "collapsed": true
   },
   "outputs": [],
   "source": [
    "c.execute('SELECT * FROM tile_placements;')\n",
    "print (c.fetchone())"
   ]
  },
  {
   "cell_type": "markdown",
   "metadata": {},
   "source": [
    "---"
   ]
  },
  {
   "cell_type": "markdown",
   "metadata": {},
   "source": [
    "##  Generate Index for Table "
   ]
  },
  {
   "cell_type": "code",
   "execution_count": null,
   "metadata": {
    "collapsed": false,
    "scrolled": true
   },
   "outputs": [],
   "source": [
    "c.execute('CREATE INDEX idx_placement_username ON tile_placements (user_name)')"
   ]
  },
  {
   "cell_type": "code",
   "execution_count": null,
   "metadata": {
    "collapsed": false,
    "scrolled": true
   },
   "outputs": [],
   "source": [
    "c.execute('CREATE INDEX idx_placement_coord ON tile_placements (x_coord, y_coord)')"
   ]
  },
  {
   "cell_type": "code",
   "execution_count": null,
   "metadata": {
    "collapsed": false,
    "scrolled": true
   },
   "outputs": [],
   "source": [
    "c.execute('CREATE INDEX idx_placement_timestamp ON tile_placements (x_coord, y_coord, timestamp)')"
   ]
  },
  {
   "cell_type": "markdown",
   "metadata": {},
   "source": [
    "---"
   ]
  },
  {
   "cell_type": "markdown",
   "metadata": {},
   "source": [
    "##  Search Contents of Table "
   ]
  },
  {
   "cell_type": "code",
   "execution_count": null,
   "metadata": {
    "collapsed": false,
    "scrolled": true
   },
   "outputs": [],
   "source": [
    "%%time\n",
    "time = 1491238734\n",
    "c.execute(\"\"\"SELECT t1.*\n",
    "FROM tile_placements t1\n",
    "WHERE t1.timestamp = (SELECT MAX(t2.timestamp)\n",
    "                FROM tile_placements t2\n",
    "                WHERE t2.x_coord = t1.x_coord AND t2.y_coord = t1.y_coord AND t2.timestamp <= ?)\"\"\", (time,))\n",
    "rows = c.fetchall()\n",
    "print(len(rows))"
   ]
  },
  {
   "cell_type": "markdown",
   "metadata": {},
   "source": [
    "---"
   ]
  },
  {
   "cell_type": "code",
   "execution_count": null,
   "metadata": {
    "collapsed": true
   },
   "outputs": [],
   "source": [
    "from tqdm import tqdm"
   ]
  },
  {
   "cell_type": "code",
   "execution_count": null,
   "metadata": {
    "collapsed": false
   },
   "outputs": [],
   "source": [
    "import pandas as pd\n",
    "import numpy as np\n",
    "directory = \"/home/srivbane/shared/caringbridge/data/projects/place-project/data/\"\n",
    "df = pd.read_feather(directory+\"derived/feather/user.ft\")\n",
    "df.head()"
   ]
  },
  {
   "cell_type": "code",
   "execution_count": null,
   "metadata": {
    "collapsed": true
   },
   "outputs": [],
   "source": [
    "class PixelHistory:\n",
    "    def __init__(self, time_color_map, timestamp_list):\n",
    "        self.time_color_map = time_color_map\n",
    "        self.timestamp_list = np.array(timestamp_list)\n",
    "        \n",
    "    def get_color_at_time(self, ts):\n",
    "        ts = self.timestamp_list[self.timestamp_list <= ts][-1]\n",
    "        color = self.time_color_map[ts]\n",
    "        return color\n",
    "        \n",
    "class TilePlacements:\n",
    "    def __init__(self):\n",
    "        self.d = {}\n",
    "        \n",
    "    def build_from_df(self, df):\n",
    "        for key, group in tqdm(df.groupby(by=['x_coordinate', 'y_coordinate'], sort=False)):\n",
    "            x, y = key\n",
    "            time_color_map = {ts: color for ts, color in zip(group.timestamp, group.color)}\n",
    "            timestamp_list = group.timestamp\n",
    "            timestamp_list.sort_values()\n",
    "            self.d[key] = PixelHistory(time_color_map, timestamp_list)\n",
    "    \n",
    "    def get_colors_at_timestamp(self, ts):\n",
    "        colors = np.array((1000, 1000))\n",
    "        for x in range(1000):\n",
    "            for y in range(1000):\n",
    "                colors[x, y] = self.d[(x,y)].get_color_at_time(ts)"
   ]
  },
  {
   "cell_type": "code",
   "execution_count": null,
   "metadata": {
    "collapsed": false
   },
   "outputs": [],
   "source": [
    "tp = TilePlacements()\n",
    "tp.build_from_df(df)"
   ]
  },
  {
   "cell_type": "markdown",
   "metadata": {},
   "source": [
    "##  Get Unique UserNames in Table "
   ]
  },
  {
   "cell_type": "code",
   "execution_count": null,
   "metadata": {
    "collapsed": true
   },
   "outputs": [],
   "source": [
    "%%time\n",
    "c.execute(\"SELECT DISTINCT user_name FROM tile_placements;\")\n",
    "print (c.fetchall())"
   ]
  },
  {
   "cell_type": "code",
   "execution_count": null,
   "metadata": {
    "collapsed": true
   },
   "outputs": [],
   "source": []
  }
 ],
 "metadata": {
  "kernelspec": {
   "display_name": "Python 3",
   "language": "python",
   "name": "python3"
  },
  "language_info": {
   "codemirror_mode": {
    "name": "ipython",
    "version": 3
   },
   "file_extension": ".py",
   "mimetype": "text/x-python",
   "name": "python",
   "nbconvert_exporter": "python",
   "pygments_lexer": "ipython3",
   "version": "3.6.8"
  }
 },
 "nbformat": 4,
 "nbformat_minor": 2
}
