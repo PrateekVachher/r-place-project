{
 "cells": [
  {
   "cell_type": "markdown",
   "metadata": {},
   "source": [
    "## Load Tile Placements Table"
   ]
  },
  {
   "cell_type": "code",
   "execution_count": 11,
   "metadata": {
    "collapsed": true
   },
   "outputs": [],
   "source": [
    "import sqlite3\n",
    "conn = sqlite3.connect('../dataset/tile_placements.db')\n",
    "c = conn.cursor()"
   ]
  },
  {
   "cell_type": "code",
   "execution_count": null,
   "metadata": {
    "collapsed": true
   },
   "outputs": [],
   "source": [
    "conn.close()"
   ]
  },
  {
   "cell_type": "markdown",
   "metadata": {},
   "source": [
    "---"
   ]
  },
  {
   "cell_type": "markdown",
   "metadata": {},
   "source": [
    "## Create Tile Placements Table"
   ]
  },
  {
   "cell_type": "code",
   "execution_count": 2,
   "metadata": {
    "collapsed": true
   },
   "outputs": [],
   "source": [
    "c.execute('''CREATE TABLE tile_placements \n",
    "            (timestamp INTEGER, user_hash TEXT, user_name TEXT, x_coord INTEGER, y_coord INTEGER, color INTEGER)''')\n",
    "conn.commit()"
   ]
  },
  {
   "cell_type": "markdown",
   "metadata": {},
   "source": [
    "---"
   ]
  },
  {
   "cell_type": "markdown",
   "metadata": {},
   "source": [
    "## Insert CSV File to Tile Placements Table "
   ]
  },
  {
   "cell_type": "code",
   "execution_count": 5,
   "metadata": {
    "collapsed": true
   },
   "outputs": [],
   "source": [
    "def insert_tile_placement(timestamp, user_hash, user_name, x_coord, y_coord, color):\n",
    "    c.execute('''INSERT INTO tile_placements (timestamp, user_hash, user_name, x_coord, y_coord, color)\n",
    "                 VALUES (?, ?, ?, ?, ?, ?);''', (timestamp, user_hash, user_name, x_coord, y_coord, color))"
   ]
  },
  {
   "cell_type": "code",
   "execution_count": 6,
   "metadata": {
    "collapsed": false
   },
   "outputs": [],
   "source": [
    "read_data = open(\"../../ShortcutRedditDir/RawData/place/tile_placements_with_usernames.csv\").readlines()[1:]\n",
    "for line in read_data:\n",
    "    line = line.split(',')\n",
    "    insert_tile_placement(int(line[0])/1000, line[1], line[2],  int(line[3]), int(line[4]), int(line[5]))\n",
    "conn.commit()"
   ]
  },
  {
   "cell_type": "markdown",
   "metadata": {},
   "source": [
    "---"
   ]
  },
  {
   "cell_type": "markdown",
   "metadata": {},
   "source": [
    "## Empty Table"
   ]
  },
  {
   "cell_type": "code",
   "execution_count": null,
   "metadata": {
    "collapsed": true
   },
   "outputs": [],
   "source": [
    "c.execute(\"DELETE FROM tile_placements;\")\n",
    "conn.commit()"
   ]
  },
  {
   "cell_type": "markdown",
   "metadata": {},
   "source": [
    "---"
   ]
  },
  {
   "cell_type": "markdown",
   "metadata": {},
   "source": [
    "##  Show Size of Table "
   ]
  },
  {
   "cell_type": "code",
   "execution_count": 12,
   "metadata": {
    "collapsed": false
   },
   "outputs": [
    {
     "name": "stdout",
     "output_type": "stream",
     "text": [
      "(16559897,)\n"
     ]
    }
   ],
   "source": [
    "c.execute('SELECT COUNT(*) FROM tile_placements;')\n",
    "print (c.fetchone())"
   ]
  },
  {
   "cell_type": "markdown",
   "metadata": {},
   "source": [
    "---"
   ]
  },
  {
   "cell_type": "markdown",
   "metadata": {},
   "source": [
    "##  Show Contents of Table "
   ]
  },
  {
   "cell_type": "code",
   "execution_count": null,
   "metadata": {
    "collapsed": true
   },
   "outputs": [],
   "source": [
    "c.execute('SELECT * FROM tile_placements;')\n",
    "print (c.fetchone())"
   ]
  },
  {
   "cell_type": "markdown",
   "metadata": {},
   "source": [
    "---"
   ]
  },
  {
   "cell_type": "markdown",
   "metadata": {},
   "source": [
    "##  Generate Index for Table "
   ]
  },
  {
   "cell_type": "code",
   "execution_count": 8,
   "metadata": {
    "collapsed": false,
    "scrolled": true
   },
   "outputs": [
    {
     "data": {
      "text/plain": [
       "<sqlite3.Cursor at 0x2b88586540a0>"
      ]
     },
     "execution_count": 8,
     "metadata": {},
     "output_type": "execute_result"
    }
   ],
   "source": [
    "c.execute('CREATE INDEX idx_placement_username ON tile_placements (user_name)')"
   ]
  },
  {
   "cell_type": "code",
   "execution_count": 9,
   "metadata": {
    "collapsed": false,
    "scrolled": true
   },
   "outputs": [
    {
     "data": {
      "text/plain": [
       "<sqlite3.Cursor at 0x2b88586540a0>"
      ]
     },
     "execution_count": 9,
     "metadata": {},
     "output_type": "execute_result"
    }
   ],
   "source": [
    "c.execute('CREATE INDEX idx_placement_coord ON tile_placements (x_coord, y_coord)')"
   ]
  },
  {
   "cell_type": "code",
   "execution_count": 13,
   "metadata": {
    "collapsed": false,
    "scrolled": true
   },
   "outputs": [
    {
     "data": {
      "text/plain": [
       "<sqlite3.Cursor at 0x2b88e2213c00>"
      ]
     },
     "execution_count": 13,
     "metadata": {},
     "output_type": "execute_result"
    }
   ],
   "source": [
    "c.execute('CREATE INDEX idx_placement_timestamp ON tile_placements (x_coord, y_coord, timestamp)')"
   ]
  },
  {
   "cell_type": "markdown",
   "metadata": {},
   "source": [
    "---"
   ]
  },
  {
   "cell_type": "markdown",
   "metadata": {},
   "source": [
    "##  Search Contents of Table "
   ]
  },
  {
   "cell_type": "code",
   "execution_count": 10,
   "metadata": {
    "collapsed": false
   },
   "outputs": [
    {
     "name": "stdout",
     "output_type": "stream",
     "text": [
      "[(1491167838, 'c2Md9m4QckH8M+lhNh9btgoiFDk=', 'bolush_it', 326, 258, 0), (1491136027, 'c2Md9m4QckH8M+lhNh9btgoiFDk=', 'bolush_it', 66, 993, 0), (1491010730, 'c2Md9m4QckH8M+lhNh9btgoiFDk=', 'bolush_it', 631, 113, 0), (1491097193, 'c2Md9m4QckH8M+lhNh9btgoiFDk=', 'bolush_it', 851, 30, 4), (1491055635, 'c2Md9m4QckH8M+lhNh9btgoiFDk=', 'bolush_it', 308, 259, 5), (1491137819, 'c2Md9m4QckH8M+lhNh9btgoiFDk=', 'bolush_it', 904, 702, 13), (1491054873, 'c2Md9m4QckH8M+lhNh9btgoiFDk=', 'bolush_it', 317, 255, 0), (1491079626, 'c2Md9m4QckH8M+lhNh9btgoiFDk=', 'bolush_it', 311, 261, 0), (1490985199, 'c2Md9m4QckH8M+lhNh9btgoiFDk=', 'bolush_it', 34, 624, 3), (1491057853, 'c2Md9m4QckH8M+lhNh9btgoiFDk=', 'bolush_it', 308, 259, 5), (1490980932, 'c2Md9m4QckH8M+lhNh9btgoiFDk=', 'bolush_it', 500, 497, 3), (1490986755, 'c2Md9m4QckH8M+lhNh9btgoiFDk=', 'bolush_it', 22, 633, 3), (1491164149, 'c2Md9m4QckH8M+lhNh9btgoiFDk=', 'bolush_it', 910, 703, 8), (1491059470, 'c2Md9m4QckH8M+lhNh9btgoiFDk=', 'bolush_it', 296, 270, 3), (1491076909, 'c2Md9m4QckH8M+lhNh9btgoiFDk=', 'bolush_it', 315, 259, 0), (1491100942, 'c2Md9m4QckH8M+lhNh9btgoiFDk=', 'bolush_it', 272, 807, 0), (1490985835, 'c2Md9m4QckH8M+lhNh9btgoiFDk=', 'bolush_it', 30, 627, 3), (1491078338, 'c2Md9m4QckH8M+lhNh9btgoiFDk=', 'bolush_it', 453, 315, 4), (1491097995, 'c2Md9m4QckH8M+lhNh9btgoiFDk=', 'bolush_it', 280, 770, 0), (1490981628, 'c2Md9m4QckH8M+lhNh9btgoiFDk=', 'bolush_it', 20, 623, 3), (1491078955, 'c2Md9m4QckH8M+lhNh9btgoiFDk=', 'bolush_it', 310, 256, 5), (1491224237, 'c2Md9m4QckH8M+lhNh9btgoiFDk=', 'bolush_it', 916, 719, 0), (1491004307, 'c2Md9m4QckH8M+lhNh9btgoiFDk=', 'bolush_it', 252, 62, 0), (1491156976, 'c2Md9m4QckH8M+lhNh9btgoiFDk=', 'bolush_it', 279, 987, 0), (1490983423, 'c2Md9m4QckH8M+lhNh9btgoiFDk=', 'bolush_it', 28, 625, 3), (1490984888, 'c2Md9m4QckH8M+lhNh9btgoiFDk=', 'bolush_it', 34, 626, 3), (1491048621, 'c2Md9m4QckH8M+lhNh9btgoiFDk=', 'bolush_it', 402, 602, 3), (1491011698, 'c2Md9m4QckH8M+lhNh9btgoiFDk=', 'bolush_it', 952, 902, 13), (1491075508, 'c2Md9m4QckH8M+lhNh9btgoiFDk=', 'bolush_it', 315, 260, 0), (1491049234, 'c2Md9m4QckH8M+lhNh9btgoiFDk=', 'bolush_it', 999, 999, 3), (1491077680, 'c2Md9m4QckH8M+lhNh9btgoiFDk=', 'bolush_it', 463, 316, 4), (1491218075, 'c2Md9m4QckH8M+lhNh9btgoiFDk=', 'bolush_it', 903, 706, 5), (1491101718, 'c2Md9m4QckH8M+lhNh9btgoiFDk=', 'bolush_it', 280, 785, 0), (1491137226, 'c2Md9m4QckH8M+lhNh9btgoiFDk=', 'bolush_it', 898, 548, 0), (1491076149, 'c2Md9m4QckH8M+lhNh9btgoiFDk=', 'bolush_it', 400, 813, 2), (1490985504, 'c2Md9m4QckH8M+lhNh9btgoiFDk=', 'bolush_it', 35, 626, 3), (1491100363, 'c2Md9m4QckH8M+lhNh9btgoiFDk=', 'bolush_it', 285, 772, 0), (1491080917, 'c2Md9m4QckH8M+lhNh9btgoiFDk=', 'bolush_it', 314, 260, 0), (1491096885, 'c2Md9m4QckH8M+lhNh9btgoiFDk=', 'bolush_it', 330, 266, 3), (1490982495, 'c2Md9m4QckH8M+lhNh9btgoiFDk=', 'bolush_it', 26, 625, 3), (1490984393, 'c2Md9m4QckH8M+lhNh9btgoiFDk=', 'bolush_it', 31, 625, 3), (1490986448, 'c2Md9m4QckH8M+lhNh9btgoiFDk=', 'bolush_it', 35, 623, 3), (1491080237, 'c2Md9m4QckH8M+lhNh9btgoiFDk=', 'bolush_it', 287, 268, 5), (1491182939, 'c2Md9m4QckH8M+lhNh9btgoiFDk=', 'bolush_it', 847, 766, 3), (1490984082, 'c2Md9m4QckH8M+lhNh9btgoiFDk=', 'bolush_it', 30, 626, 3), (1490986146, 'c2Md9m4QckH8M+lhNh9btgoiFDk=', 'bolush_it', 34, 627, 3), (1490983109, 'c2Md9m4QckH8M+lhNh9btgoiFDk=', 'bolush_it', 27, 623, 3), (1490979712, 'c2Md9m4QckH8M+lhNh9btgoiFDk=', 'bolush_it', 447, 513, 3), (1490981276, 'c2Md9m4QckH8M+lhNh9btgoiFDk=', 'bolush_it', 23, 625, 3), (1491065549, 'c2Md9m4QckH8M+lhNh9btgoiFDk=', 'bolush_it', 310, 256, 5), (1490982123, 'c2Md9m4QckH8M+lhNh9btgoiFDk=', 'bolush_it', 26, 626, 3), (1490983728, 'c2Md9m4QckH8M+lhNh9btgoiFDk=', 'bolush_it', 30, 624, 3)]\n",
      "CPU times: user 2.37 ms, sys: 188 µs, total: 2.56 ms\n",
      "Wall time: 3.28 ms\n"
     ]
    }
   ],
   "source": [
    "%%time\n",
    "c.execute(\"SELECT * FROM tile_placements WHERE user_name = 'bolush_it';\")\n",
    "print (c.fetchall())"
   ]
  },
  {
   "cell_type": "markdown",
   "metadata": {},
   "source": [
    "---"
   ]
  },
  {
   "cell_type": "markdown",
   "metadata": {},
   "source": [
    "##  Get Unique UserNames in Table "
   ]
  },
  {
   "cell_type": "code",
   "execution_count": null,
   "metadata": {
    "collapsed": true
   },
   "outputs": [],
   "source": [
    "%%time\n",
    "c.execute(\"SELECT DISTINCT user_name FROM tile_placements;\")\n",
    "print (c.fetchall())"
   ]
  },
  {
   "cell_type": "code",
   "execution_count": null,
   "metadata": {
    "collapsed": true
   },
   "outputs": [],
   "source": []
  }
 ],
 "metadata": {
  "kernelspec": {
   "display_name": "Python 3",
   "language": "python",
   "name": "python3"
  },
  "language_info": {
   "codemirror_mode": {
    "name": "ipython",
    "version": 3
   },
   "file_extension": ".py",
   "mimetype": "text/x-python",
   "name": "python",
   "nbconvert_exporter": "python",
   "pygments_lexer": "ipython3",
   "version": "3.6.8"
  }
 },
 "nbformat": 4,
 "nbformat_minor": 2
}
